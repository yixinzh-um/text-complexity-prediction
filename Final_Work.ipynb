{
  "cells": [
    {
      "cell_type": "markdown",
      "metadata": {
        "id": "D_jT-zB0fxEJ"
      },
      "source": [
        "## Read in the training and test data"
      ]
    },
    {
      "cell_type": "code",
      "execution_count": 1,
      "metadata": {
        "colab": {
          "base_uri": "https://localhost:8080/"
        },
        "id": "yc1N_MpGMhlz",
        "outputId": "776f5d18-84db-4497-e719-78c16d8f26ad"
      },
      "outputs": [],
      "source": [
        "# from google.colab import drive\n",
        "# drive.mount('/content/drive')\n",
        "# %cd '/content/drive/Shared drives/SI 670 Project'"
      ]
    },
    {
      "cell_type": "code",
      "execution_count": 2,
      "metadata": {
        "id": "I4b11PNfOnCw"
      },
      "outputs": [],
      "source": [
        "import pandas as pd\n",
        "import numpy as np\n",
        "import nltk\n",
        "from tqdm import tqdm\n",
        "\n",
        "train = pd.read_csv ('data/WikiLarge_Train.csv')\n",
        "test = pd.read_csv ('data/WikiLarge_Test.csv')\n",
        "train_df = train.copy()\n",
        "test_df = test.copy()\n",
        "# shuffle the training data\n",
        "train_df = train_df.sample(frac = 1)"
      ]
    },
    {
      "cell_type": "code",
      "execution_count": 3,
      "metadata": {
        "colab": {
          "base_uri": "https://localhost:8080/",
          "height": 206
        },
        "id": "9dMbFCnzM3yX",
        "outputId": "097d8810-0026-40ef-c4f4-e44eed4774d8"
      },
      "outputs": [
        {
          "data": {
            "text/html": [
              "<div>\n",
              "<style scoped>\n",
              "    .dataframe tbody tr th:only-of-type {\n",
              "        vertical-align: middle;\n",
              "    }\n",
              "\n",
              "    .dataframe tbody tr th {\n",
              "        vertical-align: top;\n",
              "    }\n",
              "\n",
              "    .dataframe thead th {\n",
              "        text-align: right;\n",
              "    }\n",
              "</style>\n",
              "<table border=\"1\" class=\"dataframe\">\n",
              "  <thead>\n",
              "    <tr style=\"text-align: right;\">\n",
              "      <th></th>\n",
              "      <th>original_text</th>\n",
              "      <th>label</th>\n",
              "    </tr>\n",
              "  </thead>\n",
              "  <tbody>\n",
              "    <tr>\n",
              "      <th>226399</th>\n",
              "      <td>Placebo is an alternative rock band that start...</td>\n",
              "      <td>0</td>\n",
              "    </tr>\n",
              "    <tr>\n",
              "      <th>130348</th>\n",
              "      <td>Vendays-Montalivet is a commune in the Gironde...</td>\n",
              "      <td>1</td>\n",
              "    </tr>\n",
              "    <tr>\n",
              "      <th>391981</th>\n",
              "      <td>For example , if the angle between the road an...</td>\n",
              "      <td>0</td>\n",
              "    </tr>\n",
              "    <tr>\n",
              "      <th>216011</th>\n",
              "      <td>It is also used in electrolytic cells to carry...</td>\n",
              "      <td>0</td>\n",
              "    </tr>\n",
              "    <tr>\n",
              "      <th>300337</th>\n",
              "      <td>Fluorescent lamp</td>\n",
              "      <td>0</td>\n",
              "    </tr>\n",
              "  </tbody>\n",
              "</table>\n",
              "</div>"
            ],
            "text/plain": [
              "                                            original_text  label\n",
              "226399  Placebo is an alternative rock band that start...      0\n",
              "130348  Vendays-Montalivet is a commune in the Gironde...      1\n",
              "391981  For example , if the angle between the road an...      0\n",
              "216011  It is also used in electrolytic cells to carry...      0\n",
              "300337                                   Fluorescent lamp      0"
            ]
          },
          "execution_count": 3,
          "metadata": {},
          "output_type": "execute_result"
        }
      ],
      "source": [
        "train_df.head()"
      ]
    },
    {
      "cell_type": "code",
      "execution_count": 4,
      "metadata": {
        "colab": {
          "base_uri": "https://localhost:8080/",
          "height": 206
        },
        "id": "KcvPShe1M5P3",
        "outputId": "a5d9b7fb-fab9-4767-8f50-2d212320f10f"
      },
      "outputs": [
        {
          "data": {
            "text/html": [
              "<div>\n",
              "<style scoped>\n",
              "    .dataframe tbody tr th:only-of-type {\n",
              "        vertical-align: middle;\n",
              "    }\n",
              "\n",
              "    .dataframe tbody tr th {\n",
              "        vertical-align: top;\n",
              "    }\n",
              "\n",
              "    .dataframe thead th {\n",
              "        text-align: right;\n",
              "    }\n",
              "</style>\n",
              "<table border=\"1\" class=\"dataframe\">\n",
              "  <thead>\n",
              "    <tr style=\"text-align: right;\">\n",
              "      <th></th>\n",
              "      <th>id</th>\n",
              "      <th>original_text</th>\n",
              "      <th>label</th>\n",
              "    </tr>\n",
              "  </thead>\n",
              "  <tbody>\n",
              "    <tr>\n",
              "      <th>0</th>\n",
              "      <td>0</td>\n",
              "      <td>-2011</td>\n",
              "      <td>NaN</td>\n",
              "    </tr>\n",
              "    <tr>\n",
              "      <th>1</th>\n",
              "      <td>1</td>\n",
              "      <td>-2011</td>\n",
              "      <td>NaN</td>\n",
              "    </tr>\n",
              "    <tr>\n",
              "      <th>2</th>\n",
              "      <td>2</td>\n",
              "      <td>-2000</td>\n",
              "      <td>NaN</td>\n",
              "    </tr>\n",
              "    <tr>\n",
              "      <th>3</th>\n",
              "      <td>3</td>\n",
              "      <td>-1997</td>\n",
              "      <td>NaN</td>\n",
              "    </tr>\n",
              "    <tr>\n",
              "      <th>4</th>\n",
              "      <td>4</td>\n",
              "      <td>1.636</td>\n",
              "      <td>NaN</td>\n",
              "    </tr>\n",
              "  </tbody>\n",
              "</table>\n",
              "</div>"
            ],
            "text/plain": [
              "   id original_text  label\n",
              "0   0         -2011    NaN\n",
              "1   1         -2011    NaN\n",
              "2   2         -2000    NaN\n",
              "3   3         -1997    NaN\n",
              "4   4         1.636    NaN"
            ]
          },
          "execution_count": 4,
          "metadata": {},
          "output_type": "execute_result"
        }
      ],
      "source": [
        "test_df.head()"
      ]
    },
    {
      "cell_type": "code",
      "execution_count": 5,
      "metadata": {
        "id": "0MYwhu5uT6VV"
      },
      "outputs": [],
      "source": [
        "# nltk.download('punkt')\n",
        "# nltk.download('averaged_perceptron_tagger')"
      ]
    },
    {
      "cell_type": "markdown",
      "metadata": {
        "id": "CC6s5j68gGZN"
      },
      "source": [
        "## Data prepocessing and feature extraction\n",
        "\n",
        "We create two kind of features: numerical feature and numerical feature "
      ]
    },
    {
      "cell_type": "markdown",
      "metadata": {
        "id": "T_zA1nZKjAyG"
      },
      "source": [
        "### Numerical feature\n",
        "We create some numerical features by calculating some summary statistics after combining training dataset with other files."
      ]
    },
    {
      "cell_type": "markdown",
      "metadata": {
        "id": "eQF8YbM1ndOw"
      },
      "source": [
        "#### 1.1 Generate percentage of frequently used words for each sentence in training data"
      ]
    },
    {
      "cell_type": "code",
      "execution_count": null,
      "metadata": {
        "colab": {
          "base_uri": "https://localhost:8080/",
          "height": 223
        },
        "id": "sjC2aOgjjmM_",
        "outputId": "307051b6-439b-4273-8f1c-6485476c7c2b"
      },
      "outputs": [],
      "source": [
        "# Create the frequency word wordset list from dale_chall.txt\n",
        "frequency_wordset_df = pd.read_csv('data/dale_chall.txt', sep=\"\\n\", header=None)\n",
        "frequency_wordset = list(frequency_wordset_df[0])\n",
        "\n",
        "# Generate percentage of frequently used words for each sentence in training data\n",
        "def frequency_word_percentage(sentence):\n",
        "  word_list = sentence.split(\" \")\n",
        "  count = 0\n",
        "  for i in word_list:\n",
        "    if i in frequency_wordset:\n",
        "      count += 1\n",
        "  return count/len(word_list)\n",
        "\n",
        "fre_perc_list = []\n",
        "for i in tqdm(range(len(train_df))):\n",
        "  sentence = train_df.iloc[i][\"original_text\"]\n",
        "  fre_perc_list.append(frequency_word_percentage(sentence))\n",
        "\n",
        "# Display and save percentage of frequently used words as a numerical feature\n",
        "train_df[\"frequency word percentage\"] = fre_perc_list\n",
        "train_df.to_csv(\"train_fwp.csv\")\n",
        "train_df.head()"
      ]
    },
    {
      "cell_type": "code",
      "execution_count": 7,
      "metadata": {
        "colab": {
          "base_uri": "https://localhost:8080/",
          "height": 206
        },
        "id": "Ls07RhxeNauA",
        "outputId": "6560580e-3358-45c0-f215-ef30db468d88"
      },
      "outputs": [
        {
          "data": {
            "text/html": [
              "<div>\n",
              "<style scoped>\n",
              "    .dataframe tbody tr th:only-of-type {\n",
              "        vertical-align: middle;\n",
              "    }\n",
              "\n",
              "    .dataframe tbody tr th {\n",
              "        vertical-align: top;\n",
              "    }\n",
              "\n",
              "    .dataframe thead th {\n",
              "        text-align: right;\n",
              "    }\n",
              "</style>\n",
              "<table border=\"1\" class=\"dataframe\">\n",
              "  <thead>\n",
              "    <tr style=\"text-align: right;\">\n",
              "      <th></th>\n",
              "      <th>original_text</th>\n",
              "      <th>label</th>\n",
              "      <th>frequency word percentage</th>\n",
              "    </tr>\n",
              "  </thead>\n",
              "  <tbody>\n",
              "    <tr>\n",
              "      <th>0</th>\n",
              "      <td>There is manuscript evidence that Austen conti...</td>\n",
              "      <td>1</td>\n",
              "      <td>0.465116</td>\n",
              "    </tr>\n",
              "    <tr>\n",
              "      <th>1</th>\n",
              "      <td>In a remarkable comparative analysis , Mandaea...</td>\n",
              "      <td>1</td>\n",
              "      <td>0.217391</td>\n",
              "    </tr>\n",
              "    <tr>\n",
              "      <th>2</th>\n",
              "      <td>Before Persephone was released to Hermes , who...</td>\n",
              "      <td>1</td>\n",
              "      <td>0.543478</td>\n",
              "    </tr>\n",
              "    <tr>\n",
              "      <th>3</th>\n",
              "      <td>Cogeneration plants are commonly found in dist...</td>\n",
              "      <td>1</td>\n",
              "      <td>0.256410</td>\n",
              "    </tr>\n",
              "    <tr>\n",
              "      <th>4</th>\n",
              "      <td>Geneva -LRB- , ; , ; , ; ; -RRB- is the second...</td>\n",
              "      <td>1</td>\n",
              "      <td>0.361111</td>\n",
              "    </tr>\n",
              "  </tbody>\n",
              "</table>\n",
              "</div>"
            ],
            "text/plain": [
              "                                       original_text  label  \\\n",
              "0  There is manuscript evidence that Austen conti...      1   \n",
              "1  In a remarkable comparative analysis , Mandaea...      1   \n",
              "2  Before Persephone was released to Hermes , who...      1   \n",
              "3  Cogeneration plants are commonly found in dist...      1   \n",
              "4  Geneva -LRB- , ; , ; , ; ; -RRB- is the second...      1   \n",
              "\n",
              "   frequency word percentage  \n",
              "0                   0.465116  \n",
              "1                   0.217391  \n",
              "2                   0.543478  \n",
              "3                   0.256410  \n",
              "4                   0.361111  "
            ]
          },
          "execution_count": 7,
          "metadata": {},
          "output_type": "execute_result"
        }
      ],
      "source": [
        "train_fwp = pd.read_csv(\"data/train_fwp.csv\",index_col=0)\n",
        "train_fwp.head()"
      ]
    },
    {
      "cell_type": "markdown",
      "metadata": {
        "id": "uLsMNU4zoaX2"
      },
      "source": [
        "#### 1.2 Generate mean concreteness and mean unknown percentage of each sentence"
      ]
    },
    {
      "cell_type": "code",
      "execution_count": null,
      "metadata": {
        "colab": {
          "base_uri": "https://localhost:8080/",
          "height": 241
        },
        "id": "RwOnp-Mko5re",
        "outputId": "e69791e8-97df-4a6a-b017-a86d33c4ea5a"
      },
      "outputs": [
        {
          "name": "stderr",
          "output_type": "stream",
          "text": [
            "100%|██████████| 39954/39954 [00:25<00:00, 1552.33it/s]\n",
            "100%|██████████| 416768/416768 [01:42<00:00, 4080.51it/s]\n"
          ]
        },
        {
          "data": {
            "text/html": [
              "<div>\n",
              "<style scoped>\n",
              "    .dataframe tbody tr th:only-of-type {\n",
              "        vertical-align: middle;\n",
              "    }\n",
              "\n",
              "    .dataframe tbody tr th {\n",
              "        vertical-align: top;\n",
              "    }\n",
              "\n",
              "    .dataframe thead th {\n",
              "        text-align: right;\n",
              "    }\n",
              "</style>\n",
              "<table border=\"1\" class=\"dataframe\">\n",
              "  <thead>\n",
              "    <tr style=\"text-align: right;\">\n",
              "      <th></th>\n",
              "      <th>original_text</th>\n",
              "      <th>label</th>\n",
              "      <th>frequency word percentage</th>\n",
              "      <th>mean_concretness</th>\n",
              "      <th>mean_unknow_percentage</th>\n",
              "    </tr>\n",
              "  </thead>\n",
              "  <tbody>\n",
              "    <tr>\n",
              "      <th>0</th>\n",
              "      <td>There is manuscript evidence that Austen conti...</td>\n",
              "      <td>1</td>\n",
              "      <td>0.465116</td>\n",
              "      <td>2.360769</td>\n",
              "      <td>0.004231</td>\n",
              "    </tr>\n",
              "    <tr>\n",
              "      <th>1</th>\n",
              "      <td>In a remarkable comparative analysis , Mandaea...</td>\n",
              "      <td>1</td>\n",
              "      <td>0.217391</td>\n",
              "      <td>2.037273</td>\n",
              "      <td>0.006364</td>\n",
              "    </tr>\n",
              "    <tr>\n",
              "      <th>2</th>\n",
              "      <td>Before Persephone was released to Hermes , who...</td>\n",
              "      <td>1</td>\n",
              "      <td>0.543478</td>\n",
              "      <td>2.369697</td>\n",
              "      <td>0.006364</td>\n",
              "    </tr>\n",
              "    <tr>\n",
              "      <th>3</th>\n",
              "      <td>Cogeneration plants are commonly found in dist...</td>\n",
              "      <td>1</td>\n",
              "      <td>0.256410</td>\n",
              "      <td>2.997143</td>\n",
              "      <td>0.006667</td>\n",
              "    </tr>\n",
              "    <tr>\n",
              "      <th>4</th>\n",
              "      <td>Geneva -LRB- , ; , ; , ; ; -RRB- is the second...</td>\n",
              "      <td>1</td>\n",
              "      <td>0.361111</td>\n",
              "      <td>2.364667</td>\n",
              "      <td>0.010667</td>\n",
              "    </tr>\n",
              "  </tbody>\n",
              "</table>\n",
              "</div>"
            ],
            "text/plain": [
              "                                       original_text  ...  mean_unknow_percentage\n",
              "0  There is manuscript evidence that Austen conti...  ...                0.004231\n",
              "1  In a remarkable comparative analysis , Mandaea...  ...                0.006364\n",
              "2  Before Persephone was released to Hermes , who...  ...                0.006364\n",
              "3  Cogeneration plants are commonly found in dist...  ...                0.006667\n",
              "4  Geneva -LRB- , ; , ; , ; ; -RRB- is the second...  ...                0.010667\n",
              "\n",
              "[5 rows x 5 columns]"
            ]
          },
          "execution_count": 8,
          "metadata": {},
          "output_type": "execute_result"
        }
      ],
      "source": [
        "# Create the concreteness/unknown percentage list from Concreteness_ratings_Brysbaert_et_al_BRM.txt\n",
        "concreteness_df = pd.read_csv(\"data/Concreteness_ratings_Brysbaert_et_al_BRM.txt\", sep=\"\\t\")\n",
        "\n",
        "# Generate mean concreteness and mean unknown percentage of each sentence in training data\n",
        "concreteness_dict = {}\n",
        "for i in tqdm(range(len(concreteness_df))):\n",
        "  word = concreteness_df.iloc[i][\"Word\"]\n",
        "  if word not in concreteness_dict:\n",
        "    concreteness_dict[word] = {}\n",
        "  concreteness_dict[word][\"conc_m\"] = concreteness_df.iloc[i][\"Conc.M\"]\n",
        "  concreteness_dict[word][\"percent_unknow\"] = 1 - concreteness_df.iloc[i][\"Percent_known\"]\n",
        "\n",
        "def check_difficulty(sentence):\n",
        "  word_list = sentence.split(\" \")\n",
        "  count = 0\n",
        "  conc = []\n",
        "  unknow = []\n",
        "  for i in word_list:\n",
        "    if i in concreteness_dict:\n",
        "      count += 1\n",
        "      conc.append(concreteness_dict[i][\"conc_m\"])\n",
        "      unknow.append(concreteness_dict[i][\"percent_unknow\"])\n",
        "  if conc != [] and unknow != []:\n",
        "    mean_conc = sum(conc) / len(conc)\n",
        "    mean_unknow = sum(unknow) / len(unknow)\n",
        "  else:\n",
        "    mean_conc = float(-100)\n",
        "    mean_unknow = float(-100)\n",
        "  return [mean_conc,mean_unknow]\n",
        "\n",
        "train_fwp = pd.read_csv(\"data/train_fwp.csv\",index_col=0)\n",
        "train_df1 = train_fwp.copy()\n",
        "conc_all = []\n",
        "mean_conc = []\n",
        "unknow_all = []\n",
        "mean_unknow = []\n",
        "for i in tqdm(range(len(train_df1))):\n",
        "  sentence = train_df1.iloc[i][\"original_text\"]\n",
        "  diff = check_difficulty(sentence)\n",
        "  s_conc = diff[0]\n",
        "  s_unknow = diff[1]\n",
        "  conc_all.append(s_conc)\n",
        "  unknow_all.append(s_unknow)\n",
        "  if s_conc != -100 and s_unknow != -100:\n",
        "    mean_conc.append(s_conc)\n",
        "    mean_unknow.append(s_unknow)\n",
        "mean_conc_all = sum(mean_conc) / len(mean_conc) \n",
        "mean_unknow_all = sum(mean_unknow) / len(mean_unknow)\n",
        "\n",
        "for i in range(len(conc_all)):\n",
        "  if conc_all[i] == -100:\n",
        "    conc_all[i] = mean_conc_all\n",
        "\n",
        "for i in range(len(unknow_all)):\n",
        "  if unknow_all[i] == -100:\n",
        "    unknow_all[i] = mean_unknow_all\n",
        "\n",
        "# Display and save mean concreteness and mean unknown percentage as a numerical feature\n",
        "train_df1[\"mean_concretness\"] = conc_all\n",
        "train_df1[\"mean_unknow_percentage\"] = unknow_all\n",
        "train_df1.to_csv(\"data/train_fwp_cu.csv\")\n",
        "train_df1.head()"
      ]
    },
    {
      "cell_type": "code",
      "execution_count": 8,
      "metadata": {
        "colab": {
          "base_uri": "https://localhost:8080/",
          "height": 206
        },
        "id": "iH5oVQTgNqrK",
        "outputId": "fdb2a373-7d0d-43d4-de65-2683d91bfcde"
      },
      "outputs": [
        {
          "data": {
            "text/html": [
              "<div>\n",
              "<style scoped>\n",
              "    .dataframe tbody tr th:only-of-type {\n",
              "        vertical-align: middle;\n",
              "    }\n",
              "\n",
              "    .dataframe tbody tr th {\n",
              "        vertical-align: top;\n",
              "    }\n",
              "\n",
              "    .dataframe thead th {\n",
              "        text-align: right;\n",
              "    }\n",
              "</style>\n",
              "<table border=\"1\" class=\"dataframe\">\n",
              "  <thead>\n",
              "    <tr style=\"text-align: right;\">\n",
              "      <th></th>\n",
              "      <th>original_text</th>\n",
              "      <th>label</th>\n",
              "      <th>frequency word percentage</th>\n",
              "      <th>mean_concretness</th>\n",
              "      <th>mean_unknow_percentage</th>\n",
              "    </tr>\n",
              "  </thead>\n",
              "  <tbody>\n",
              "    <tr>\n",
              "      <th>0</th>\n",
              "      <td>There is manuscript evidence that Austen conti...</td>\n",
              "      <td>1</td>\n",
              "      <td>0.465116</td>\n",
              "      <td>2.360769</td>\n",
              "      <td>0.004231</td>\n",
              "    </tr>\n",
              "    <tr>\n",
              "      <th>1</th>\n",
              "      <td>In a remarkable comparative analysis , Mandaea...</td>\n",
              "      <td>1</td>\n",
              "      <td>0.217391</td>\n",
              "      <td>2.037273</td>\n",
              "      <td>0.006364</td>\n",
              "    </tr>\n",
              "    <tr>\n",
              "      <th>2</th>\n",
              "      <td>Before Persephone was released to Hermes , who...</td>\n",
              "      <td>1</td>\n",
              "      <td>0.543478</td>\n",
              "      <td>2.369697</td>\n",
              "      <td>0.006364</td>\n",
              "    </tr>\n",
              "    <tr>\n",
              "      <th>3</th>\n",
              "      <td>Cogeneration plants are commonly found in dist...</td>\n",
              "      <td>1</td>\n",
              "      <td>0.256410</td>\n",
              "      <td>2.997143</td>\n",
              "      <td>0.006667</td>\n",
              "    </tr>\n",
              "    <tr>\n",
              "      <th>4</th>\n",
              "      <td>Geneva -LRB- , ; , ; , ; ; -RRB- is the second...</td>\n",
              "      <td>1</td>\n",
              "      <td>0.361111</td>\n",
              "      <td>2.364667</td>\n",
              "      <td>0.010667</td>\n",
              "    </tr>\n",
              "  </tbody>\n",
              "</table>\n",
              "</div>"
            ],
            "text/plain": [
              "                                       original_text  label  \\\n",
              "0  There is manuscript evidence that Austen conti...      1   \n",
              "1  In a remarkable comparative analysis , Mandaea...      1   \n",
              "2  Before Persephone was released to Hermes , who...      1   \n",
              "3  Cogeneration plants are commonly found in dist...      1   \n",
              "4  Geneva -LRB- , ; , ; , ; ; -RRB- is the second...      1   \n",
              "\n",
              "   frequency word percentage  mean_concretness  mean_unknow_percentage  \n",
              "0                   0.465116          2.360769                0.004231  \n",
              "1                   0.217391          2.037273                0.006364  \n",
              "2                   0.543478          2.369697                0.006364  \n",
              "3                   0.256410          2.997143                0.006667  \n",
              "4                   0.361111          2.364667                0.010667  "
            ]
          },
          "execution_count": 8,
          "metadata": {},
          "output_type": "execute_result"
        }
      ],
      "source": [
        "train_fwp_cu = pd.read_csv(\"data/train_fwp_cu.csv\",index_col=0)\n",
        "train_fwp_cu.head()"
      ]
    },
    {
      "cell_type": "markdown",
      "metadata": {
        "id": "AgZ4Xo0cpwhc"
      },
      "source": [
        "#### 1.3 Generate mean AoA of each sentence"
      ]
    },
    {
      "cell_type": "code",
      "execution_count": null,
      "metadata": {
        "id": "ekkPTwqPp32J"
      },
      "outputs": [],
      "source": [
        "# Create the AoA list from AoA_51715_words.csv\n",
        "aoa_df = pd.read_csv(\"data/AoA_51715_words.csv\", encoding= 'unicode_escape')\n",
        "aoa_df[\"AoA_Kup_lem\"].isna().sum() / len(aoa_df)\n",
        "aoa_df = aoa_df.dropna(subset=[\"Word\", \"AoA_Kup_lem\"])\n",
        "\n",
        "# Generate  mean AoA of each sentence in training data\n",
        "aoa_dict = {}\n",
        "for i in tqdm(range(len(aoa_df))):\n",
        "  word = aoa_df.iloc[i][\"Word\"]\n",
        "  aoa = aoa_df.iloc[i][\"AoA_Kup_lem\"]\n",
        "  aoa_dict[word] = aoa\n",
        "\n",
        "def mean_aoa(sentence):\n",
        "  word_list = sentence.split(\" \")\n",
        "  aoa_list = []\n",
        "  for i in word_list:\n",
        "    if i in aoa_dict:\n",
        "      aoa_list.append(aoa_dict[i])\n",
        "  if aoa_list != []:\n",
        "    mean_aoa = sum(aoa_list) / len(aoa_list)\n",
        "  else:\n",
        "    mean_aoa = float(-100)\n",
        "  return mean_aoa\n",
        "\n",
        "train_fwp_cu = pd.read_csv(\"data/train_fwp_cu.csv\",index_col=0)\n",
        "train_df2 = train_fwp_cu.copy()\n",
        "\n",
        "aoa_all = []\n",
        "mean_aoa_list = []\n",
        "for i in tqdm(range(len(train_df2))):\n",
        "  sentence = train_df2.iloc[i][\"original_text\"]\n",
        "  aoa = mean_aoa(sentence)\n",
        "  aoa_all.append(aoa)\n",
        "  if aoa != -100:\n",
        "    mean_aoa_list.append(aoa)\n",
        "mean_aoa_all = sum(mean_aoa_list) / len(mean_aoa_list) \n",
        "\n",
        "for i in range(len(aoa_all)):\n",
        "  if aoa_all[i] == -100:\n",
        "    aoa_all[i] = mean_aoa_all\n",
        "\n",
        "# Display and save mean AoA as a numerical feature\n",
        "train_df2[\"mean_aoa\"] = aoa_all\n",
        "train_df2.to_csv(\"data/train_fwp_cu_aoa.csv\")\n",
        "train_df2.head()"
      ]
    },
    {
      "cell_type": "markdown",
      "metadata": {
        "id": "YrREcD17sHk0"
      },
      "source": [
        "#### 1.4 Display numerical features"
      ]
    },
    {
      "cell_type": "code",
      "execution_count": 9,
      "metadata": {
        "colab": {
          "base_uri": "https://localhost:8080/",
          "height": 204
        },
        "id": "TTrGMofrsRj6",
        "outputId": "214c685c-88b4-436a-ebc2-5f2904ce06e9"
      },
      "outputs": [
        {
          "data": {
            "text/html": [
              "<div>\n",
              "<style scoped>\n",
              "    .dataframe tbody tr th:only-of-type {\n",
              "        vertical-align: middle;\n",
              "    }\n",
              "\n",
              "    .dataframe tbody tr th {\n",
              "        vertical-align: top;\n",
              "    }\n",
              "\n",
              "    .dataframe thead th {\n",
              "        text-align: right;\n",
              "    }\n",
              "</style>\n",
              "<table border=\"1\" class=\"dataframe\">\n",
              "  <thead>\n",
              "    <tr style=\"text-align: right;\">\n",
              "      <th></th>\n",
              "      <th>original_text</th>\n",
              "      <th>label</th>\n",
              "      <th>frequency word percentage</th>\n",
              "      <th>mean_concretness</th>\n",
              "      <th>mean_unknow_percentage</th>\n",
              "      <th>mean_aoa</th>\n",
              "    </tr>\n",
              "  </thead>\n",
              "  <tbody>\n",
              "    <tr>\n",
              "      <th>0</th>\n",
              "      <td>There is manuscript evidence that Austen conti...</td>\n",
              "      <td>1</td>\n",
              "      <td>0.465116</td>\n",
              "      <td>2.360769</td>\n",
              "      <td>0.004231</td>\n",
              "      <td>5.947857</td>\n",
              "    </tr>\n",
              "    <tr>\n",
              "      <th>1</th>\n",
              "      <td>In a remarkable comparative analysis , Mandaea...</td>\n",
              "      <td>1</td>\n",
              "      <td>0.217391</td>\n",
              "      <td>2.037273</td>\n",
              "      <td>0.006364</td>\n",
              "      <td>7.711667</td>\n",
              "    </tr>\n",
              "    <tr>\n",
              "      <th>2</th>\n",
              "      <td>Before Persephone was released to Hermes , who...</td>\n",
              "      <td>1</td>\n",
              "      <td>0.543478</td>\n",
              "      <td>2.369697</td>\n",
              "      <td>0.006364</td>\n",
              "      <td>5.318611</td>\n",
              "    </tr>\n",
              "    <tr>\n",
              "      <th>3</th>\n",
              "      <td>Cogeneration plants are commonly found in dist...</td>\n",
              "      <td>1</td>\n",
              "      <td>0.256410</td>\n",
              "      <td>2.997143</td>\n",
              "      <td>0.006667</td>\n",
              "      <td>6.738889</td>\n",
              "    </tr>\n",
              "    <tr>\n",
              "      <th>4</th>\n",
              "      <td>Geneva -LRB- , ; , ; , ; ; -RRB- is the second...</td>\n",
              "      <td>1</td>\n",
              "      <td>0.361111</td>\n",
              "      <td>2.364667</td>\n",
              "      <td>0.010667</td>\n",
              "      <td>5.396667</td>\n",
              "    </tr>\n",
              "  </tbody>\n",
              "</table>\n",
              "</div>"
            ],
            "text/plain": [
              "                                       original_text  label  \\\n",
              "0  There is manuscript evidence that Austen conti...      1   \n",
              "1  In a remarkable comparative analysis , Mandaea...      1   \n",
              "2  Before Persephone was released to Hermes , who...      1   \n",
              "3  Cogeneration plants are commonly found in dist...      1   \n",
              "4  Geneva -LRB- , ; , ; , ; ; -RRB- is the second...      1   \n",
              "\n",
              "   frequency word percentage  mean_concretness  mean_unknow_percentage  \\\n",
              "0                   0.465116          2.360769                0.004231   \n",
              "1                   0.217391          2.037273                0.006364   \n",
              "2                   0.543478          2.369697                0.006364   \n",
              "3                   0.256410          2.997143                0.006667   \n",
              "4                   0.361111          2.364667                0.010667   \n",
              "\n",
              "   mean_aoa  \n",
              "0  5.947857  \n",
              "1  7.711667  \n",
              "2  5.318611  \n",
              "3  6.738889  \n",
              "4  5.396667  "
            ]
          },
          "execution_count": 9,
          "metadata": {},
          "output_type": "execute_result"
        }
      ],
      "source": [
        "df_numeric1 = pd.read_csv(\"data/train_fwp_cu_aoa.csv\",index_col=0)\n",
        "df_numeric = df_numeric1.copy()\n",
        "df_numeric.head()"
      ]
    },
    {
      "cell_type": "markdown",
      "metadata": {
        "id": "A4Ft2WLOgU3q"
      },
      "source": [
        "### Text feature\n",
        "We first split up a larger body of text into words called tokens. Then we use word embedding as a vector which represents the features of these tokens and use the vectors as the features to classify the sentences."
      ]
    },
    {
      "cell_type": "code",
      "execution_count": 10,
      "metadata": {
        "colab": {
          "base_uri": "https://localhost:8080/"
        },
        "id": "uIKPNJAqtqMT",
        "outputId": "6c82f7da-7488-4f84-d7fc-cbcaf0ae7b9f"
      },
      "outputs": [
        {
          "name": "stdout",
          "output_type": "stream",
          "text": [
            "input_train shape: (416768, 20)\n"
          ]
        }
      ],
      "source": [
        "from keras.preprocessing.text import Tokenizer\n",
        "from keras.preprocessing.sequence import pad_sequences\n",
        "\n",
        "maxlen = 20\n",
        "max_features = 24\n",
        "\n",
        "# Load data\n",
        "dataset_train = train_df.values\n",
        "X_train = dataset_train[:, 0]\n",
        "y_train = dataset_train[:, 1]\n",
        "y_train = np.asarray(y_train).astype(np.int32)\n",
        "text_train = X_train.reshape(-1)\n",
        "tokenizer = Tokenizer(num_words=max_features, lower=True)\n",
        "## fit on train/test\n",
        "tokenizer.fit_on_texts(text_train)\n",
        "sequences_train = tokenizer.texts_to_sequences(text_train)\n",
        "# Pad sequences\n",
        "input_train = pad_sequences(sequences_train, maxlen=maxlen)\n",
        "print('input_train shape:', input_train.shape)"
      ]
    },
    {
      "cell_type": "markdown",
      "metadata": {
        "id": "HbY-jweWs5gO"
      },
      "source": [
        "## Methods and Evaluation\n",
        "We first fit two baseline models: \n",
        "(a) dummy classifier baseline and\n",
        "(b) a simple method baseline i.e, Naive Bayes\n",
        "\n",
        "We then fit three different supervised learning\n",
        "models: K nearest-neighbor, tree-based methods and LSTM. The first two models use numerical features and the last model use text features.\n",
        "\n",
        "We use 5-fold cross-validation to compare performance of the above three different supervised learning methods."
      ]
    },
    {
      "cell_type": "code",
      "execution_count": 11,
      "metadata": {
        "id": "GNVu1VIadM4Y"
      },
      "outputs": [],
      "source": [
        "def get_metrics_score(model_name, scores):\n",
        "  print(f\"{model_name} classifier accuracy: \", np.mean(score_result['test_accuracy']))\n",
        "  print(f\"{model_name} classifier f1: \", np.mean(scores['test_f1']))\n",
        "  print(f\"{model_name} classifier precision: \", np.mean(scores['test_precision']))\n",
        "  print(f\"{model_name} classifier recall: \", np.mean(scores['test_recall']))\n",
        "  return np.mean(score_result['test_accuracy']), np.mean(scores['test_f1']), np.mean(scores['test_precision']), np.mean(scores['test_recall'])\n",
        "scorings = ['accuracy','f1', 'precision', 'recall']"
      ]
    },
    {
      "cell_type": "markdown",
      "metadata": {
        "id": "wfRQxgmCuVIy"
      },
      "source": [
        "#### 1 Dummy classifier"
      ]
    },
    {
      "cell_type": "code",
      "execution_count": 12,
      "metadata": {
        "colab": {
          "base_uri": "https://localhost:8080/"
        },
        "id": "scvGunK1unit",
        "outputId": "3f0f6649-764f-4c80-c5c4-d3bdd6a07e44"
      },
      "outputs": [
        {
          "name": "stderr",
          "output_type": "stream",
          "text": [
            "[Parallel(n_jobs=1)]: Using backend SequentialBackend with 1 concurrent workers.\n"
          ]
        },
        {
          "name": "stdout",
          "output_type": "stream",
          "text": [
            "[CV]  ................................................................\n"
          ]
        },
        {
          "name": "stderr",
          "output_type": "stream",
          "text": [
            "/Library/Frameworks/Python.framework/Versions/3.8/lib/python3.8/site-packages/sklearn/metrics/_classification.py:1221: UndefinedMetricWarning: Precision is ill-defined and being set to 0.0 due to no predicted samples. Use `zero_division` parameter to control this behavior.\n",
            "  _warn_prf(average, modifier, msg_start, len(result))\n",
            "[Parallel(n_jobs=1)]: Done   1 out of   1 | elapsed:    1.3s remaining:    0.0s\n"
          ]
        },
        {
          "name": "stdout",
          "output_type": "stream",
          "text": [
            "[CV] ................................................. , total=   0.9s\n",
            "[CV]  ................................................................\n",
            "[CV] ................................................. , total=   0.3s\n",
            "[CV]  ................................................................\n",
            "[CV] ................................................. , total=   0.5s\n",
            "[CV]  ................................................................\n",
            "[CV] ................................................. , total=   0.4s\n",
            "[CV]  ................................................................\n",
            "[CV] ................................................. , total=   0.2s\n",
            "Dummy Classifier classifier accuracy:  0.49999760056626635\n",
            "Dummy Classifier classifier f1:  0.13333226691407593\n",
            "Dummy Classifier classifier precision:  0.09999880028313318\n",
            "Dummy Classifier classifier recall:  0.2\n"
          ]
        },
        {
          "name": "stderr",
          "output_type": "stream",
          "text": [
            "[Parallel(n_jobs=1)]: Done   5 out of   5 | elapsed:    2.8s finished\n"
          ]
        }
      ],
      "source": [
        "import numpy as np\n",
        "from sklearn.dummy import DummyClassifier\n",
        "from sklearn.model_selection import KFold\n",
        "from sklearn.model_selection import cross_validate\n",
        "\n",
        "X, y = df_numeric.iloc[:, 2:], df_numeric.iloc[:, 1]\n",
        "dummy_clf = DummyClassifier(strategy=\"most_frequent\")\n",
        "score_result = cross_validate(dummy_clf, X, y, scoring=scorings, cv = 5, verbose=2)\n",
        "dummy_result = get_metrics_score(\"Dummy Classifier\", score_result)"
      ]
    },
    {
      "cell_type": "markdown",
      "metadata": {
        "id": "0xc2GAhZurD1"
      },
      "source": [
        "#### 2 Naive Bayes classifier"
      ]
    },
    {
      "cell_type": "code",
      "execution_count": 13,
      "metadata": {
        "colab": {
          "base_uri": "https://localhost:8080/"
        },
        "id": "Ml93U9bjuoKH",
        "outputId": "67198f00-0e9c-48b2-9c4b-c753fddf2313"
      },
      "outputs": [
        {
          "name": "stderr",
          "output_type": "stream",
          "text": [
            "[Parallel(n_jobs=1)]: Using backend SequentialBackend with 1 concurrent workers.\n"
          ]
        },
        {
          "name": "stdout",
          "output_type": "stream",
          "text": [
            "[CV]  ................................................................\n",
            "[CV] ................................................. , total=   0.7s\n",
            "[CV]  ................................................................\n"
          ]
        },
        {
          "name": "stderr",
          "output_type": "stream",
          "text": [
            "[Parallel(n_jobs=1)]: Done   1 out of   1 | elapsed:    1.0s remaining:    0.0s\n"
          ]
        },
        {
          "name": "stdout",
          "output_type": "stream",
          "text": [
            "[CV] ................................................. , total=   0.4s\n",
            "[CV]  ................................................................\n",
            "[CV] ................................................. , total=   0.3s\n",
            "[CV]  ................................................................\n",
            "[CV] ................................................. , total=   0.4s\n",
            "[CV]  ................................................................\n",
            "[CV] ................................................. , total=   0.4s\n",
            "Naive Bayes classifier accuracy:  0.5845842266197705\n",
            "Naive Bayes classifier f1:  0.650144779233643\n",
            "Naive Bayes classifier precision:  0.5615283029174232\n",
            "Naive Bayes classifier recall:  0.7719786622776463\n"
          ]
        },
        {
          "name": "stderr",
          "output_type": "stream",
          "text": [
            "[Parallel(n_jobs=1)]: Done   5 out of   5 | elapsed:    2.6s finished\n"
          ]
        }
      ],
      "source": [
        "from sklearn.datasets import load_iris\n",
        "from sklearn.model_selection import train_test_split\n",
        "from sklearn.naive_bayes import GaussianNB\n",
        "X, y = df_numeric.iloc[:, 2:], df_numeric.iloc[:, 1]\n",
        "nb = GaussianNB()\n",
        "score_result = cross_validate(nb, X, y, scoring=scorings, cv = 5, verbose=2)\n",
        "nb_result = get_metrics_score(\"Naive Bayes\", score_result)"
      ]
    },
    {
      "cell_type": "markdown",
      "metadata": {
        "id": "U5BxBJV6uAe4"
      },
      "source": [
        "#### 3  K nearest-neighbor classifier\n",
        "We train a K nearest-neighbor classifier using numerical features of training data."
      ]
    },
    {
      "cell_type": "code",
      "execution_count": null,
      "metadata": {
        "id": "Z0qk6kwNrRYL"
      },
      "outputs": [],
      "source": [
        "from sklearn.model_selection import cross_val_score, cross_validate\n",
        "from sklearn.pipeline import Pipeline\n",
        "from sklearn.datasets import make_classification\n",
        "from sklearn.model_selection import KFold\n",
        "from sklearn.preprocessing import StandardScaler\n",
        "from sklearn.neighbors import KNeighborsClassifier\n",
        "\n",
        "# find optimal k\n",
        "X = df_numeric.iloc[:,2:6]\n",
        "y = df_numeric.iloc[:,1]\n",
        "\n",
        "# define the pipeline\n",
        "acc_lst = []\n",
        "for i in range(1, 20):\n",
        "  steps = list()\n",
        "  steps.append(('scaler', StandardScaler()))\n",
        "  steps.append(('model', KNeighborsClassifier(n_neighbors = i)))\n",
        "  pipeline = Pipeline(steps=steps)\n",
        "  \n",
        "  # evaluate the model using 5-fold cross validation\n",
        "  cv = KFold(n_splits = 5)\n",
        "  acc_lst.append(np.mean(cross_val_score(pipeline, X, y, scoring='accuracy', cv=cv, n_jobs=-1)))"
      ]
    },
    {
      "cell_type": "code",
      "execution_count": null,
      "metadata": {
        "colab": {
          "base_uri": "https://localhost:8080/",
          "height": 421
        },
        "id": "lgzOzskOujHl",
        "outputId": "3e096914-70ff-437b-aa86-352d32cbc5c2"
      },
      "outputs": [
        {
          "data": {
            "text/plain": [
              "Text(0, 0.5, 'Mean Accuracy')"
            ]
          },
          "execution_count": 6,
          "metadata": {},
          "output_type": "execute_result"
        },
        {
          "data": {
            "image/png": "[encoded data removed]",
            "text/plain": [
              "<Figure size 864x432 with 1 Axes>"
            ]
          },
          "metadata": {
            "needs_background": "light"
          },
          "output_type": "display_data"
        }
      ],
      "source": [
        "import matplotlib.pyplot as plt\n",
        "# plot k vs. accuracy\n",
        "plt.figure(figsize=(12, 6))\n",
        "plt.plot(range(1, 20), acc_lst, color='red', linestyle='dashed', marker='o',\n",
        "         markerfacecolor='blue', markersize=10)\n",
        "plt.title('Accuracy Rate vs K Value')\n",
        "plt.xlabel('K Value')\n",
        "plt.ylabel('Mean Accuracy')"
      ]
    },
    {
      "cell_type": "code",
      "execution_count": null,
      "metadata": {
        "colab": {
          "base_uri": "https://localhost:8080/"
        },
        "id": "E0Mx_k7q8WRH",
        "outputId": "2a047464-f1c4-434c-e23f-a45780b90043"
      },
      "outputs": [
        {
          "name": "stderr",
          "output_type": "stream",
          "text": [
            "[Parallel(n_jobs=1)]: Using backend SequentialBackend with 1 concurrent workers.\n"
          ]
        },
        {
          "name": "stdout",
          "output_type": "stream",
          "text": [
            "[CV] END .................................................... total time=   6.1s\n"
          ]
        },
        {
          "name": "stderr",
          "output_type": "stream",
          "text": [
            "[Parallel(n_jobs=1)]: Done   1 out of   1 | elapsed:    6.2s remaining:    0.0s\n"
          ]
        },
        {
          "name": "stdout",
          "output_type": "stream",
          "text": [
            "[CV] END .................................................... total time=   5.9s\n",
            "[CV] END .................................................... total time=   5.8s\n",
            "[CV] END .................................................... total time=   5.9s\n",
            "[CV] END .................................................... total time=  10.9s\n",
            "KNN classifier accuracy:  0.6205178943366697\n",
            "KNN classifier f1:  0.6422007789660649\n",
            "KNN classifier precision:  0.6074975889725132\n",
            "KNN classifier recall:  0.6811127495722265\n"
          ]
        },
        {
          "name": "stderr",
          "output_type": "stream",
          "text": [
            "[Parallel(n_jobs=1)]: Done   5 out of   5 | elapsed:   34.7s finished\n"
          ]
        }
      ],
      "source": [
        "# define the pipeline with optimal k\n",
        "steps = list()\n",
        "steps.append(('scaler', StandardScaler()))\n",
        "steps.append(('model', KNeighborsClassifier(n_neighbors = 1)))\n",
        "pipeline = Pipeline(steps=steps)\n",
        "\n",
        "score_result = cross_validate(pipeline, X, y, scoring=scorings, cv = 5, verbose=2)\n",
        "knn_result = get_metrics_score(\"KNN\", score_result)"
      ]
    },
    {
      "cell_type": "code",
      "execution_count": null,
      "metadata": {
        "colab": {
          "base_uri": "https://localhost:8080/",
          "height": 323
        },
        "id": "ALVqHDyn_Ut3",
        "outputId": "1fcbc81e-75a9-4b26-b5c5-46de570048a6"
      },
      "outputs": [
        {
          "name": "stderr",
          "output_type": "stream",
          "text": [
            "/usr/local/lib/python3.7/dist-packages/ipykernel_launcher.py:35: MatplotlibDeprecationWarning: Adding an axes using the same arguments as a previous axes currently reuses the earlier instance.  In a future version, a new instance will always be created and returned.  Meanwhile, this warning can be suppressed, and the future behavior ensured, by passing a unique label to each axes instance.\n"
          ]
        },
        {
          "data": {
            "image/png": "[encoded data removed]",
            "text/plain": [
              "<Figure size 432x288 with 1 Axes>"
            ]
          },
          "metadata": {
            "needs_background": "light"
          },
          "output_type": "display_data"
        }
      ],
      "source": [
        "# Display precision recall curve of knn\n",
        "from sklearn.metrics import precision_recall_curve\n",
        "from sklearn.model_selection import train_test_split\n",
        "\n",
        "X = df_numeric.iloc[:,2:6]\n",
        "y = df_numeric.iloc[:,1]\n",
        "X_train, X_test, y_train, y_test = train_test_split(X, y, random_state=0)\n",
        "\n",
        "# Normalize the feature\n",
        "scaler = StandardScaler()\n",
        "columns = X_train.columns\n",
        "standardized_X_train = X_train.copy()\n",
        "standardized_X_test = X_test.copy()\n",
        "standardized_X_train[columns] = scaler.fit_transform(X_train[columns])\n",
        "standardized_X_test[columns] = scaler.transform(X_test[columns])\n",
        "\n",
        "# Train K nearest-neighbor classifer with K = 5 tree classifier\n",
        "knn = KNeighborsClassifier(n_neighbors = 5)\n",
        "knn.fit(standardized_X_train, y_train)\n",
        "\n",
        "#use decision tree model to make predictions\n",
        "y_scores_knn = knn.fit(X_train, y_train).predict_proba(X_test)[:, 1]\n",
        "#calculate precision and recall\n",
        "precision, recall, thresholds = precision_recall_curve(y_test, y_scores_knn)\n",
        "closest_zero = np.argmin(np.abs(thresholds))\n",
        "closest_zero_p = precision[closest_zero]\n",
        "closest_zero_r = recall[closest_zero]\n",
        "\n",
        "plt.figure()\n",
        "plt.xlim([0.0, 1.01])\n",
        "plt.ylim([0.0, 1.01])\n",
        "plt.plot(precision, recall, label='Precision-Recall Curve')\n",
        "plt.xlabel('Precision', fontsize=16)\n",
        "plt.ylabel('Recall', fontsize=16)\n",
        "plt.axes().set_aspect('equal')\n",
        "plt.show()\n",
        "\n",
        "#display plot\n",
        "plt.show()"
      ]
    },
    {
      "cell_type": "markdown",
      "metadata": {
        "id": "EF6u_zwntzXm"
      },
      "source": [
        "#### 4 Decision tree classifer\n",
        "We train a tree-based classifer using numerical features of training data."
      ]
    },
    {
      "cell_type": "code",
      "execution_count": null,
      "metadata": {
        "colab": {
          "base_uri": "https://localhost:8080/"
        },
        "id": "LpoDg8Xyt_rB",
        "outputId": "28e7ffcd-e0f6-4d55-f9e9-a0f14fd16353"
      },
      "outputs": [
        {
          "name": "stderr",
          "output_type": "stream",
          "text": [
            "[Parallel(n_jobs=1)]: Using backend SequentialBackend with 1 concurrent workers.\n"
          ]
        },
        {
          "name": "stdout",
          "output_type": "stream",
          "text": [
            "[CV] END .................................................... total time=   2.5s\n"
          ]
        },
        {
          "name": "stderr",
          "output_type": "stream",
          "text": [
            "[Parallel(n_jobs=1)]: Done   1 out of   1 | elapsed:    2.6s remaining:    0.0s\n"
          ]
        },
        {
          "name": "stdout",
          "output_type": "stream",
          "text": [
            "[CV] END .................................................... total time=   2.5s\n",
            "[CV] END .................................................... total time=   2.5s\n",
            "[CV] END .................................................... total time=   2.6s\n",
            "[CV] END .................................................... total time=   2.5s\n",
            "Decision Tree classifier accuracy:  0.6657684831872397\n",
            "Decision Tree classifier f1:  0.658127024757907\n",
            "Decision Tree classifier precision:  0.673526367431695\n",
            "Decision Tree classifier recall:  0.6434179191398137\n"
          ]
        },
        {
          "name": "stderr",
          "output_type": "stream",
          "text": [
            "[Parallel(n_jobs=1)]: Done   5 out of   5 | elapsed:   12.6s finished\n"
          ]
        }
      ],
      "source": [
        "from sklearn.compose import ColumnTransformer\n",
        "from sklearn.tree import DecisionTreeClassifier\n",
        "from sklearn.model_selection import cross_val_score\n",
        "\n",
        "X = df_numeric.iloc[:,2:6]\n",
        "y = df_numeric.iloc[:,1]\n",
        "#X_train, X_test, y_train, y_test = train_test_split(X, y, random_state=0)\n",
        "\n",
        "# Train a decision tree classifier\n",
        "DT_classifier = DecisionTreeClassifier(random_state=0)\n",
        "# acc_DT = cross_val_score(DT_classifier, X, y, scoring='accuracy', cv = 5)\n",
        "# f1_DT = cross_val_score(DT_classifier, X, y, scoring='f1', cv = 5)\n",
        "# precision_DT = cross_val_score(DT_classifier, X, y, scoring='precision', cv = 5)\n",
        "# recall_DT = cross_val_score(DT_classifier, X, y, scoring='recall', cv = 5)\n",
        "# print(\"Decision tree classifier accuracy: \", np.mean(acc_DT))\n",
        "# print(\"Decision tree classifier f1 score: \", np.mean(f1_DT))\n",
        "# print(\"Decision tree classifier precision: \", np.mean(precision_DT))\n",
        "# print(\"Decision tree classifier recall: \", np.mean(recall_DT))\n",
        "\n",
        "score_result = cross_validate(DT_classifier, X, y, scoring=scorings, cv = 5, verbose=2)\n",
        "dt_result = get_metrics_score(\"Decision Tree\", score_result)"
      ]
    },
    {
      "cell_type": "code",
      "execution_count": null,
      "metadata": {
        "colab": {
          "base_uri": "https://localhost:8080/",
          "height": 282
        },
        "id": "UkdN73I1113W",
        "outputId": "8a8319a9-2f75-48db-fe54-cf1e9650af85"
      },
      "outputs": [
        {
          "data": {
            "text/plain": [
              "<matplotlib.axes._subplots.AxesSubplot at 0x7fcda6852710>"
            ]
          },
          "execution_count": 22,
          "metadata": {},
          "output_type": "execute_result"
        },
        {
          "data": {
            "image/png": "[encoded data removed]",
            "text/plain": [
              "<Figure size 432x288 with 1 Axes>"
            ]
          },
          "metadata": {},
          "output_type": "display_data"
        }
      ],
      "source": [
        "# Display feature importance of one trial\n",
        "DT_classifier.fit(X_train, y_train)\n",
        "(pd.Series(DT_classifier.feature_importances_, index=X.columns)\n",
        "   .nlargest(4)\n",
        "   .plot(kind='barh'))"
      ]
    },
    {
      "cell_type": "code",
      "execution_count": null,
      "metadata": {
        "colab": {
          "base_uri": "https://localhost:8080/",
          "height": 341
        },
        "id": "ABjVDfOVCl6P",
        "outputId": "34f2f810-895e-41fc-f2a3-d797d4d07b27"
      },
      "outputs": [
        {
          "name": "stderr",
          "output_type": "stream",
          "text": [
            "/usr/local/lib/python3.7/dist-packages/ipykernel_launcher.py:16: MatplotlibDeprecationWarning: Adding an axes using the same arguments as a previous axes currently reuses the earlier instance.  In a future version, a new instance will always be created and returned.  Meanwhile, this warning can be suppressed, and the future behavior ensured, by passing a unique label to each axes instance.\n",
            "  app.launch_new_instance()\n"
          ]
        },
        {
          "data": {
            "image/png": "[encoded data removed]",
            "text/plain": [
              "<Figure size 432x288 with 1 Axes>"
            ]
          },
          "metadata": {},
          "output_type": "display_data"
        }
      ],
      "source": [
        "# Display precision recall curve of decision tree\n",
        "#use decision tree model to make predictions\n",
        "y_scores_dt = DT_classifier.fit(X_train, y_train).predict_proba(X_test)[:, 1]\n",
        "#calculate precision and recall\n",
        "precision, recall, thresholds = precision_recall_curve(y_test, y_scores_dt)\n",
        "closest_zero = np.argmin(np.abs(thresholds))\n",
        "closest_zero_p = precision[closest_zero]\n",
        "closest_zero_r = recall[closest_zero]\n",
        "\n",
        "plt.figure()\n",
        "plt.xlim([0.0, 1.01])\n",
        "plt.ylim([0.0, 1.01])\n",
        "plt.plot(precision, recall, label='Precision-Recall Curve')\n",
        "plt.xlabel('Precision', fontsize=16)\n",
        "plt.ylabel('Recall', fontsize=16)\n",
        "plt.axes().set_aspect('equal')\n",
        "plt.show()\n",
        "\n",
        "#display plot\n",
        "plt.show()"
      ]
    },
    {
      "cell_type": "markdown",
      "metadata": {
        "id": "gjVE7AMLtkcL"
      },
      "source": [
        "#### 5 LSTM\n",
        "We train an LSTM classifer using text features of training data."
      ]
    },
    {
      "cell_type": "code",
      "execution_count": null,
      "metadata": {
        "colab": {
          "base_uri": "https://localhost:8080/"
        },
        "id": "V3z84t4tq2Mw",
        "outputId": "9d0eb419-6a99-4eaf-c75c-80ca6d499c10"
      },
      "outputs": [
        {
          "name": "stdout",
          "output_type": "stream",
          "text": [
            "input_train shape: (416768, 40)\n"
          ]
        }
      ],
      "source": [
        "from keras.preprocessing.text import Tokenizer\n",
        "from keras.preprocessing.sequence import pad_sequences\n",
        "\n",
        "maxlen = 40\n",
        "max_features = 20000\n",
        "\n",
        "# Process training data\n",
        "dataset_train = train_df.values\n",
        "X_train = dataset_train[:, 0].reshape(-1)\n",
        "y_train = dataset_train[:, 1]\n",
        "y_train = np.asarray(y_train).astype(np.float32)\n",
        "tokenizer = Tokenizer(num_words=max_features, lower=True)\n",
        "## covert tokens to sequences\n",
        "tokenizer.fit_on_texts(X_train)\n",
        "sequences_train = tokenizer.texts_to_sequences(X_train)\n",
        "## Pad sequences\n",
        "input_train = pad_sequences(sequences_train, maxlen=maxlen)\n",
        "print('input_train shape:', input_train.shape)"
      ]
    },
    {
      "cell_type": "code",
      "execution_count": null,
      "metadata": {
        "colab": {
          "base_uri": "https://localhost:8080/",
          "height": 1000
        },
        "id": "OmfREn6LA_AA",
        "outputId": "0f5d769a-4c60-4881-9b2d-0ba0c5d11fbb"
      },
      "outputs": [
        {
          "name": "stdout",
          "output_type": "stream",
          "text": [
            "Epoch 1/10\n",
            "163/163 [==============================] - 8s 33ms/step - loss: 0.6806 - acc: 0.5568 - mse: 0.2438 - mae: 0.4881 - val_loss: 0.6650 - val_acc: 0.5993 - val_mse: 0.2362 - val_mae: 0.4738\n",
            "Epoch 2/10\n",
            "163/163 [==============================] - 4s 24ms/step - loss: 0.6641 - acc: 0.6043 - mse: 0.2357 - mae: 0.4719 - val_loss: 0.6622 - val_acc: 0.6074 - val_mse: 0.2348 - val_mae: 0.4731\n",
            "Epoch 3/10\n",
            "163/163 [==============================] - 4s 24ms/step - loss: 0.6635 - acc: 0.6035 - mse: 0.2355 - mae: 0.4708 - val_loss: 0.6643 - val_acc: 0.6081 - val_mse: 0.2358 - val_mae: 0.4765\n",
            "Epoch 4/10\n",
            "163/163 [==============================] - 4s 24ms/step - loss: 0.6636 - acc: 0.6042 - mse: 0.2355 - mae: 0.4710 - val_loss: 0.6614 - val_acc: 0.6093 - val_mse: 0.2344 - val_mae: 0.4679\n",
            "Epoch 5/10\n",
            "163/163 [==============================] - 4s 24ms/step - loss: 0.6630 - acc: 0.6046 - mse: 0.2352 - mae: 0.4705 - val_loss: 0.6612 - val_acc: 0.6087 - val_mse: 0.2343 - val_mae: 0.4671\n",
            "Epoch 6/10\n",
            "163/163 [==============================] - 4s 24ms/step - loss: 0.6630 - acc: 0.6054 - mse: 0.2352 - mae: 0.4704 - val_loss: 0.6624 - val_acc: 0.6087 - val_mse: 0.2349 - val_mae: 0.4658\n",
            "Epoch 7/10\n",
            "163/163 [==============================] - 4s 24ms/step - loss: 0.6629 - acc: 0.6052 - mse: 0.2352 - mae: 0.4704 - val_loss: 0.6620 - val_acc: 0.6070 - val_mse: 0.2347 - val_mae: 0.4666\n",
            "Epoch 8/10\n",
            "163/163 [==============================] - 4s 24ms/step - loss: 0.6629 - acc: 0.6052 - mse: 0.2351 - mae: 0.4700 - val_loss: 0.6612 - val_acc: 0.6088 - val_mse: 0.2343 - val_mae: 0.4700\n",
            "Epoch 9/10\n",
            "163/163 [==============================] - 4s 24ms/step - loss: 0.6627 - acc: 0.6054 - mse: 0.2351 - mae: 0.4703 - val_loss: 0.6615 - val_acc: 0.6089 - val_mse: 0.2345 - val_mae: 0.4695\n",
            "Epoch 10/10\n",
            "163/163 [==============================] - 4s 24ms/step - loss: 0.6627 - acc: 0.6054 - mse: 0.2351 - mae: 0.4701 - val_loss: 0.6613 - val_acc: 0.6090 - val_mse: 0.2344 - val_mae: 0.4666\n"
          ]
        },
        {
          "data": {
            "image/png": "[encoded data removed]",
            "text/plain": [
              "<Figure size 432x288 with 1 Axes>"
            ]
          },
          "metadata": {},
          "output_type": "display_data"
        },
        {
          "data": {
            "image/png": "[encoded data removed]",
            "text/plain": [
              "<Figure size 432x288 with 1 Axes>"
            ]
          },
          "metadata": {},
          "output_type": "display_data"
        },
        {
          "data": {
            "image/png": "[encoded data removed]",
            "text/plain": [
              "<Figure size 432x288 with 1 Axes>"
            ]
          },
          "metadata": {},
          "output_type": "display_data"
        },
        {
          "data": {
            "image/png": "[encoded data removed]",
            "text/plain": [
              "<Figure size 432x288 with 1 Axes>"
            ]
          },
          "metadata": {},
          "output_type": "display_data"
        },
        {
          "name": "stdout",
          "output_type": "stream",
          "text": [
            "6512/6512 - 29s - loss: 0.6820 - acc: 0.5844 - mse: 0.2439 - mae: 0.4684 - 29s/epoch - 4ms/step\n",
            "Epoch 1/10\n",
            "163/163 [==============================] - 7s 29ms/step - loss: 0.6976 - acc: 0.5070 - mse: 0.2521 - mae: 0.4998 - val_loss: 0.6916 - val_acc: 0.5520 - val_mse: 0.2492 - val_mae: 0.4992\n",
            "Epoch 2/10\n",
            "163/163 [==============================] - 4s 24ms/step - loss: 0.6700 - acc: 0.5946 - mse: 0.2386 - mae: 0.4783 - val_loss: 0.6636 - val_acc: 0.6026 - val_mse: 0.2355 - val_mae: 0.4713\n",
            "Epoch 3/10\n",
            "163/163 [==============================] - 4s 24ms/step - loss: 0.6639 - acc: 0.6043 - mse: 0.2357 - mae: 0.4713 - val_loss: 0.6629 - val_acc: 0.6042 - val_mse: 0.2351 - val_mae: 0.4707\n",
            "Epoch 4/10\n",
            "163/163 [==============================] - 4s 24ms/step - loss: 0.6634 - acc: 0.6053 - mse: 0.2354 - mae: 0.4708 - val_loss: 0.6625 - val_acc: 0.6070 - val_mse: 0.2350 - val_mae: 0.4702\n",
            "Epoch 5/10\n",
            "163/163 [==============================] - 4s 24ms/step - loss: 0.6634 - acc: 0.6049 - mse: 0.2354 - mae: 0.4706 - val_loss: 0.6628 - val_acc: 0.6047 - val_mse: 0.2351 - val_mae: 0.4711\n",
            "Epoch 6/10\n",
            "163/163 [==============================] - 4s 25ms/step - loss: 0.6634 - acc: 0.6059 - mse: 0.2354 - mae: 0.4708 - val_loss: 0.6626 - val_acc: 0.6045 - val_mse: 0.2350 - val_mae: 0.4696\n",
            "Epoch 7/10\n",
            "163/163 [==============================] - 4s 24ms/step - loss: 0.6633 - acc: 0.6059 - mse: 0.2354 - mae: 0.4706 - val_loss: 0.6625 - val_acc: 0.6057 - val_mse: 0.2350 - val_mae: 0.4712\n",
            "Epoch 8/10\n",
            "163/163 [==============================] - 4s 24ms/step - loss: 0.6634 - acc: 0.6052 - mse: 0.2354 - mae: 0.4708 - val_loss: 0.6625 - val_acc: 0.6080 - val_mse: 0.2350 - val_mae: 0.4705\n",
            "Epoch 9/10\n",
            "163/163 [==============================] - 4s 24ms/step - loss: 0.6634 - acc: 0.6051 - mse: 0.2354 - mae: 0.4707 - val_loss: 0.6630 - val_acc: 0.6045 - val_mse: 0.2352 - val_mae: 0.4689\n",
            "Epoch 10/10\n",
            "163/163 [==============================] - 4s 24ms/step - loss: 0.6632 - acc: 0.6053 - mse: 0.2353 - mae: 0.4705 - val_loss: 0.6626 - val_acc: 0.6077 - val_mse: 0.2350 - val_mae: 0.4681\n"
          ]
        },
        {
          "data": {
            "image/png": "[encoded data removed]",
            "text/plain": [
              "<Figure size 432x288 with 1 Axes>"
            ]
          },
          "metadata": {},
          "output_type": "display_data"
        },
        {
          "data": {
            "image/png": "[encoded data removed]",
            "text/plain": [
              "<Figure size 432x288 with 1 Axes>"
            ]
          },
          "metadata": {},
          "output_type": "display_data"
        },
        {
          "data": {
            "image/png": "[encoded data removed]",
            "text/plain": [
              "<Figure size 432x288 with 1 Axes>"
            ]
          },
          "metadata": {},
          "output_type": "display_data"
        },
        {
          "data": {
            "image/png": "[encoded data removed]",
            "text/plain": [
              "<Figure size 432x288 with 1 Axes>"
            ]
          },
          "metadata": {},
          "output_type": "display_data"
        },
        {
          "name": "stdout",
          "output_type": "stream",
          "text": [
            "6512/6512 - 29s - loss: 0.6791 - acc: 0.5881 - mse: 0.2426 - mae: 0.4673 - 29s/epoch - 4ms/step\n",
            "LSTM loss:  0.6805601119995117\n",
            "LSTM accuracy:  0.586254209280014\n",
            "LSTM MSE:  0.2432592809200287\n",
            "LSTM: MAE  0.4678661376237869\n"
          ]
        }
      ],
      "source": [
        "from keras.layers import Dense\n",
        "from keras.models import Sequential\n",
        "from keras.layers import Embedding, LSTM\n",
        "import matplotlib.pyplot as plt\n",
        "from sklearn.preprocessing import StandardScaler\n",
        "from sklearn.model_selection import KFold\n",
        "\n",
        "X = input_train\n",
        "y = y_train\n",
        "# define 5-fold cross validation test harness\n",
        "kfold = KFold(n_splits=2)\n",
        "loss_list = []\n",
        "acc_list = []\n",
        "mse_list = []\n",
        "mae_list = []\n",
        "for train, test in kfold.split(X, y):\n",
        "  model = Sequential()\n",
        "  model.add(Embedding(max_features, 64))\n",
        "  model.add(LSTM(64))\n",
        "  model.add(Dense(32, activation='sigmoid'))\n",
        "  model.add(Dense(32, activation='sigmoid'))\n",
        "  model.add(Dense(1, activation='sigmoid'))\n",
        "  model.compile(optimizer='adam',\n",
        "                loss='binary_crossentropy',\n",
        "                metrics=['acc','mse','mae'])\n",
        "  history = model.fit(X[train], y[train],\n",
        "                      epochs=10,\n",
        "                      batch_size=1024,\n",
        "                      validation_split=0.2,\n",
        "                      validation_data=(X[test],y[test]))\n",
        "  \n",
        "  # display the training and validation loss, accuracy, mse, mae\n",
        "  acc = history.history['acc']\n",
        "  val_acc = history.history['val_acc']\n",
        "  loss = history.history['loss']\n",
        "  val_loss = history.history['val_loss']\n",
        "  mse = history.history['mse']\n",
        "  val_mse = history.history['val_mse']\n",
        "  mae = history.history['mae']\n",
        "  val_mae = history.history['val_mae']\n",
        "\n",
        "  epochs = range(len(acc))\n",
        "\n",
        "  plt.plot(epochs, acc, 'bo', label='Training acc')\n",
        "  plt.plot(epochs, val_acc, 'b', label='Validation acc')\n",
        "  plt.title('Training and validation accuracy')\n",
        "  plt.legend()\n",
        "\n",
        "  plt.figure()\n",
        "\n",
        "  plt.plot(epochs, loss, 'bo', label='Training loss')\n",
        "  plt.plot(epochs, val_loss, 'b', label='Validation loss')\n",
        "  plt.title('Training and validation loss')\n",
        "  plt.legend()\n",
        "\n",
        "  plt.figure()\n",
        "\n",
        "  plt.plot(epochs, mse, 'bo', label='Training mse')\n",
        "  plt.plot(epochs, val_mse, 'b', label='Validation mse')\n",
        "  plt.title('Training and validation mse')\n",
        "  plt.legend()\n",
        "\n",
        "  plt.figure()\n",
        "\n",
        "  plt.plot(epochs, mae, 'bo', label='Training mae')\n",
        "  plt.plot(epochs, val_mae, 'b', label='Validation mae')\n",
        "  plt.title('Training and validation mae')\n",
        "  plt.legend()\n",
        "\n",
        "  plt.show()\n",
        "\n",
        "\n",
        "  scores = model.evaluate(X[test], y[test], verbose=2)\n",
        "  loss_list.append(scores[0])\n",
        "  acc_list.append(scores[1])\n",
        "  mse_list.append(scores[2])\n",
        "  mae_list.append(scores[3])\n",
        "\n",
        "# print mean value of evaluatio metrics\n",
        "print(\"LSTM loss: \", np.mean(loss_list))\n",
        "print(\"LSTM accuracy: \", np.mean(acc_list))\n",
        "print(\"LSTM MSE: \", np.mean(mse_list))\n",
        "print(\"LSTM: MAE \", np.mean(mae_list))"
      ]
    },
    {
      "cell_type": "code",
      "execution_count": null,
      "metadata": {
        "colab": {
          "base_uri": "https://localhost:8080/",
          "height": 175
        },
        "id": "bopskit1RjaZ",
        "outputId": "8b5c0227-f233-4c1f-8f67-70ee03e3d922"
      },
      "outputs": [
        {
          "data": {
            "text/html": [
              "<div>\n",
              "<style scoped>\n",
              "    .dataframe tbody tr th:only-of-type {\n",
              "        vertical-align: middle;\n",
              "    }\n",
              "\n",
              "    .dataframe tbody tr th {\n",
              "        vertical-align: top;\n",
              "    }\n",
              "\n",
              "    .dataframe thead th {\n",
              "        text-align: right;\n",
              "    }\n",
              "</style>\n",
              "<table border=\"1\" class=\"dataframe\">\n",
              "  <thead>\n",
              "    <tr style=\"text-align: right;\">\n",
              "      <th></th>\n",
              "      <th>Loss</th>\n",
              "      <th>Accuracy</th>\n",
              "      <th>MSE</th>\n",
              "      <th>MAE</th>\n",
              "    </tr>\n",
              "  </thead>\n",
              "  <tbody>\n",
              "    <tr>\n",
              "      <th>1024</th>\n",
              "      <td>0.681</td>\n",
              "      <td>0.586</td>\n",
              "      <td>0.243</td>\n",
              "      <td>0.468</td>\n",
              "    </tr>\n",
              "    <tr>\n",
              "      <th>512</th>\n",
              "      <td>0.679</td>\n",
              "      <td>0.585</td>\n",
              "      <td>0.243</td>\n",
              "      <td>0.469</td>\n",
              "    </tr>\n",
              "    <tr>\n",
              "      <th>256</th>\n",
              "      <td>0.682</td>\n",
              "      <td>0.584</td>\n",
              "      <td>0.244</td>\n",
              "      <td>0.469</td>\n",
              "    </tr>\n",
              "    <tr>\n",
              "      <th>128</th>\n",
              "      <td>0.684</td>\n",
              "      <td>0.582</td>\n",
              "      <td>0.245</td>\n",
              "      <td>0.469</td>\n",
              "    </tr>\n",
              "  </tbody>\n",
              "</table>\n",
              "</div>"
            ],
            "text/plain": [
              "       Loss  Accuracy    MSE    MAE\n",
              "1024  0.681     0.586  0.243  0.468\n",
              "512   0.679     0.585  0.243  0.469\n",
              "256   0.682     0.584  0.244  0.469\n",
              "128   0.684     0.582  0.245  0.469"
            ]
          },
          "execution_count": 34,
          "metadata": {},
          "output_type": "execute_result"
        }
      ],
      "source": [
        "batch_df = pd.DataFrame()\n",
        "# batch_columns = [\"Loss\", \"Accuracy\", \"MSE\", \"MAE\"]\n",
        "batch_df[\"1024\"] = [0.681, 0.586, 0.243, 0.468]\n",
        "batch_df[\"512\"] = [0.679, 0.585, 0.243, 0.469]\n",
        "batch_df[\"256\"] = [0.682, 0.584, 0.244, 0.469]\n",
        "batch_df[\"128\"] = [0.684, 0.582, 0.245, 0.469]\n",
        "batch_df1 = batch_df.T.rename(columns={0:\"Loss\", 1:\"Accuracy\", 2:\"MSE\", 3:\"MAE\"})\n",
        "batch_df1"
      ]
    },
    {
      "cell_type": "markdown",
      "metadata": {
        "id": "MejpMOIioqzv"
      },
      "source": [
        "##### Predict with both text and numeric data"
      ]
    },
    {
      "cell_type": "code",
      "execution_count": null,
      "metadata": {
        "colab": {
          "base_uri": "https://localhost:8080/"
        },
        "id": "xaBKllF1q2M7",
        "outputId": "325df174-a9dc-4f4e-c529-33222b43e599"
      },
      "outputs": [
        {
          "name": "stdout",
          "output_type": "stream",
          "text": [
            "Epoch 1/5\n",
            "1/1 [==============================] - 5s 5s/step - loss: 0.8860 - acc: 0.5042 - val_loss: 0.8878 - val_acc: 0.4833\n",
            "Epoch 2/5\n",
            "1/1 [==============================] - 0s 292ms/step - loss: 0.8639 - acc: 0.5042 - val_loss: 0.8631 - val_acc: 0.4833\n",
            "Epoch 3/5\n",
            "1/1 [==============================] - 0s 267ms/step - loss: 0.8420 - acc: 0.5042 - val_loss: 0.8374 - val_acc: 0.4833\n",
            "Epoch 4/5\n",
            "1/1 [==============================] - 0s 252ms/step - loss: 0.8193 - acc: 0.5042 - val_loss: 0.8091 - val_acc: 0.4833\n",
            "Epoch 5/5\n",
            "1/1 [==============================] - 0s 244ms/step - loss: 0.7947 - acc: 0.5042 - val_loss: 0.7767 - val_acc: 0.4833\n"
          ]
        }
      ],
      "source": [
        "from keras.layers import Dense\n",
        "from keras.models import Sequential\n",
        "from keras.layers import Embedding, LSTM, Bidirectional, concatenate\n",
        "from keras import Input, Model\n",
        "\n",
        "seq_length = maxlen\n",
        "nlp_input = Input(shape=(seq_length,)) \n",
        "meta_input = Input(shape=(4,))\n",
        "emb = Embedding(output_dim=24, input_dim=20, input_length=seq_length)(nlp_input) \n",
        "nlp_out = Bidirectional(LSTM(128))(emb) \n",
        "concat = concatenate([nlp_out, meta_input]) \n",
        "classifier = Dense(32, activation='relu')(concat) \n",
        "output = Dense(1, activation='sigmoid')(classifier) \n",
        "model = Model(inputs=[nlp_input , meta_input], outputs=[output])\n",
        "model.compile(optimizer='adam',\n",
        "              loss='binary_crossentropy',\n",
        "              metrics=['acc'])\n",
        "scaler = StandardScaler()\n",
        "X_train_numeric = scaler.fit_transform(df_numeric.iloc[:maxlen, 2:])\n",
        "X_test_numeric = scaler.transform(df_numeric.iloc[maxlen:maxlen*2, 2:])\n",
        "history = model.fit((input_train[:maxlen], X_train_numeric), y_train[:maxlen],\n",
        "                    epochs=5,\n",
        "                    batch_size=256,\n",
        "                    validation_split=0.2,\n",
        "                    validation_data=((input_train[:maxlen], X_test_numeric), y_train[maxlen:maxlen*2]))\n"
      ]
    },
    {
      "cell_type": "markdown",
      "metadata": {
        "id": "0KbwapcI75D2"
      },
      "source": [
        "#### 6 Logistic Regression"
      ]
    },
    {
      "cell_type": "code",
      "execution_count": null,
      "metadata": {
        "colab": {
          "base_uri": "https://localhost:8080/"
        },
        "id": "uGZG2BNV9Mnr",
        "outputId": "98722efc-8a9f-4ab8-c24e-5e7198b91756"
      },
      "outputs": [
        {
          "name": "stderr",
          "output_type": "stream",
          "text": [
            "[Parallel(n_jobs=1)]: Using backend SequentialBackend with 1 concurrent workers.\n"
          ]
        },
        {
          "name": "stdout",
          "output_type": "stream",
          "text": [
            "[CV] END .................................................... total time=   0.5s\n"
          ]
        },
        {
          "name": "stderr",
          "output_type": "stream",
          "text": [
            "[Parallel(n_jobs=1)]: Done   1 out of   1 | elapsed:    0.6s remaining:    0.0s\n"
          ]
        },
        {
          "name": "stdout",
          "output_type": "stream",
          "text": [
            "[CV] END .................................................... total time=   0.5s\n",
            "[CV] END .................................................... total time=   0.5s\n",
            "[CV] END .................................................... total time=   0.5s\n",
            "[CV] END .................................................... total time=   0.5s\n",
            "Logistic Regression classifier accuracy:  0.5684505565643486\n",
            "Logistic Regression classifier f1:  0.5747356254739266\n",
            "Logistic Regression classifier precision:  0.5664890082478102\n",
            "Logistic Regression classifier recall:  0.5832357726162114\n"
          ]
        },
        {
          "name": "stderr",
          "output_type": "stream",
          "text": [
            "[Parallel(n_jobs=1)]: Done   5 out of   5 | elapsed:    2.7s finished\n"
          ]
        }
      ],
      "source": [
        "from sklearn.linear_model import LogisticRegression\n",
        "from sklearn.model_selection import cross_validate\n",
        "X, y = df_numeric.iloc[:, 2:], df_numeric.iloc[:, 1]\n",
        "# scaler = StandardScaler()\n",
        "# lr = LogisticRegression(random_state=0)\n",
        "\n",
        "# define the pipeline\n",
        "steps = list()\n",
        "steps.append(('scaler', StandardScaler()))\n",
        "steps.append(('model', LogisticRegression(random_state=0)))\n",
        "pipeline = Pipeline(steps=steps)\n",
        "\n",
        "score_result = cross_validate(pipeline, X, y, scoring=scorings, cv = 5, verbose=2)\n",
        "lr_result = get_metrics_score(\"Logistic Regression\", score_result)"
      ]
    },
    {
      "cell_type": "code",
      "execution_count": null,
      "metadata": {
        "colab": {
          "base_uri": "https://localhost:8080/",
          "height": 667
        },
        "id": "Nb2Nix1Jhwjf",
        "outputId": "8a1313ed-00dc-4049-b3bb-3b227f1802fc"
      },
      "outputs": [
        {
          "name": "stdout",
          "output_type": "stream",
          "text": [
            "Feature: 0, Score: 0.16145\n",
            "Feature: 1, Score: -0.09943\n",
            "Feature: 2, Score: 0.01397\n",
            "Feature: 3, Score: 0.26878\n"
          ]
        },
        {
          "name": "stderr",
          "output_type": "stream",
          "text": [
            "/usr/local/lib/python3.7/dist-packages/seaborn/_decorators.py:43: FutureWarning: Pass the following variables as keyword args: x, y. From version 0.12, the only valid positional argument will be `data`, and passing other arguments without an explicit keyword will result in an error or misinterpretation.\n",
            "  FutureWarning\n"
          ]
        },
        {
          "data": {
            "image/png": "[encoded data removed]",
            "text/plain": [
              "<Figure size 432x288 with 1 Axes>"
            ]
          },
          "metadata": {},
          "output_type": "display_data"
        },
        {
          "data": {
            "image/png": "[encoded data removed]",
            "text/plain": [
              "<Figure size 432x288 with 1 Axes>"
            ]
          },
          "metadata": {},
          "output_type": "display_data"
        }
      ],
      "source": [
        "from sklearn.model_selection import train_test_split\n",
        "import matplotlib.pyplot as plt\n",
        "from sklearn.metrics import RocCurveDisplay\n",
        "import seaborn as sns\n",
        "\n",
        "X, y = df_numeric.iloc[:, 2:], df_numeric.iloc[:, 1]\n",
        "X_train, X_test, y_train, y_test = train_test_split(X, y, random_state=0)\n",
        "\n",
        "scaler = StandardScaler()\n",
        "X_train = scaler.fit_transform(X_train)\n",
        "X_test = scaler.transform(X_test)\n",
        "# Display feature importance of one trial\n",
        "lr = LogisticRegression(random_state=0)\n",
        "lr.fit(X_train,y_train)\n",
        "importance = lr.coef_[0]\n",
        "# summarize feature importance\n",
        "for i,v in enumerate(importance):\n",
        "\tprint('Feature: %0d, Score: %.5f' % (i,v))\n",
        "# plot feature importance\n",
        "sns.barplot(abs(importance),list(X.columns),color=\"blue\")\n",
        "plt.yticks(fontsize=10)\n",
        "\n",
        "plt.figure()\n",
        "\n",
        "ax = plt.gca()\n",
        "lr_disp = RocCurveDisplay.from_estimator(lr, X_test, y_test, ax=ax, alpha=0.8)\n",
        "# svc_disp.plot(ax=ax, alpha=0.8)\n",
        "plt.title(label=\"ROC Curve of Logistic Regression\")\n",
        "plt.show()"
      ]
    },
    {
      "cell_type": "markdown",
      "metadata": {
        "id": "KMoZY8qU8MDJ"
      },
      "source": [
        "#### 7 Random Forest"
      ]
    },
    {
      "cell_type": "code",
      "execution_count": null,
      "metadata": {
        "colab": {
          "base_uri": "https://localhost:8080/"
        },
        "id": "uOmlXWy_dCjS",
        "outputId": "9d1a3216-8ae4-405f-c718-b0cc58efd004"
      },
      "outputs": [
        {
          "name": "stderr",
          "output_type": "stream",
          "text": [
            "[Parallel(n_jobs=1)]: Using backend SequentialBackend with 1 concurrent workers.\n"
          ]
        },
        {
          "name": "stdout",
          "output_type": "stream",
          "text": [
            "[CV] END .................................................... total time= 1.7min\n"
          ]
        },
        {
          "name": "stderr",
          "output_type": "stream",
          "text": [
            "[Parallel(n_jobs=1)]: Done   1 out of   1 | elapsed:  1.7min remaining:    0.0s\n"
          ]
        },
        {
          "name": "stdout",
          "output_type": "stream",
          "text": [
            "[CV] END .................................................... total time= 1.7min\n",
            "[CV] END .................................................... total time= 1.6min\n",
            "[CV] END .................................................... total time= 1.6min\n",
            "[CV] END .................................................... total time= 1.6min\n",
            "Random Forest classifier accuracy:  0.6924955845219098\n",
            "Random Forest classifier f1:  0.6951359261602572\n",
            "Random Forest classifier precision:  0.6892199357541875\n",
            "Random Forest classifier recall:  0.7011574709662041\n"
          ]
        },
        {
          "name": "stderr",
          "output_type": "stream",
          "text": [
            "[Parallel(n_jobs=1)]: Done   5 out of   5 | elapsed:  8.1min finished\n"
          ]
        },
        {
          "data": {
            "text/plain": [
              "(0.6924955845219098,\n",
              " 0.6951359261602572,\n",
              " 0.6892199357541875,\n",
              " 0.7011574709662041)"
            ]
          },
          "execution_count": 20,
          "metadata": {},
          "output_type": "execute_result"
        }
      ],
      "source": [
        "from sklearn.ensemble import RandomForestClassifier\n",
        "from sklearn.model_selection import cross_validate\n",
        "\n",
        "X = df_numeric.iloc[:,2:6]\n",
        "y = df_numeric.iloc[:,1]\n",
        "\n",
        "clf = RandomForestClassifier(random_state=0)\n",
        "score_result = cross_validate(clf, X, y, scoring=scorings, cv = 5, verbose=2)\n",
        "rf_result = get_metrics_score(\"Random Forest\", score_result)\n",
        "rf_result"
      ]
    },
    {
      "cell_type": "markdown",
      "metadata": {
        "id": "vXj43IrN8ULO"
      },
      "source": [
        "#### 9 AdaBoost"
      ]
    },
    {
      "cell_type": "code",
      "execution_count": null,
      "metadata": {
        "id": "3KuNjOW6OKF8"
      },
      "outputs": [],
      "source": []
    },
    {
      "cell_type": "code",
      "execution_count": null,
      "metadata": {
        "colab": {
          "base_uri": "https://localhost:8080/"
        },
        "id": "2SvxDpuL8TiB",
        "outputId": "ca765166-b1b5-4d20-f653-a1122a01e9f1"
      },
      "outputs": [
        {
          "name": "stderr",
          "output_type": "stream",
          "text": [
            "[Parallel(n_jobs=1)]: Using backend SequentialBackend with 1 concurrent workers.\n"
          ]
        },
        {
          "name": "stdout",
          "output_type": "stream",
          "text": [
            "[CV] END .................................................... total time=  20.9s\n"
          ]
        },
        {
          "name": "stderr",
          "output_type": "stream",
          "text": [
            "[Parallel(n_jobs=1)]: Done   1 out of   1 | elapsed:   20.9s remaining:    0.0s\n"
          ]
        },
        {
          "name": "stdout",
          "output_type": "stream",
          "text": [
            "[CV] END .................................................... total time=  21.5s\n",
            "[CV] END .................................................... total time=  21.2s\n",
            "[CV] END .................................................... total time=  21.3s\n",
            "[CV] END .................................................... total time=  20.4s\n",
            "AdaBoost classifier accuracy:  0.6210409587428832\n",
            "AdaBoost classifier f1:  0.6411878413014054\n",
            "AdaBoost classifier precision:  0.6088196964784068\n",
            "AdaBoost classifier recall:  0.6771969257641957\n"
          ]
        },
        {
          "name": "stderr",
          "output_type": "stream",
          "text": [
            "[Parallel(n_jobs=1)]: Done   5 out of   5 | elapsed:  1.8min finished\n"
          ]
        },
        {
          "data": {
            "text/plain": [
              "(0.6210409587428832,\n",
              " 0.6411878413014054,\n",
              " 0.6088196964784068,\n",
              " 0.6771969257641957)"
            ]
          },
          "execution_count": 21,
          "metadata": {},
          "output_type": "execute_result"
        }
      ],
      "source": [
        "from sklearn.ensemble import AdaBoostClassifier\n",
        "from sklearn.model_selection import cross_validate\n",
        "\n",
        "X = df_numeric.iloc[:,2:6]\n",
        "y = df_numeric.iloc[:,1]\n",
        "\n",
        "clf = AdaBoostClassifier(n_estimators=100, random_state=0)\n",
        "\n",
        "score_result = cross_validate(clf, X, y, scoring=scorings, cv = 5, verbose=2)\n",
        "AdaBoost_result = get_metrics_score(\"AdaBoost\", score_result)\n",
        "AdaBoost_result"
      ]
    },
    {
      "cell_type": "code",
      "execution_count": null,
      "metadata": {
        "id": "Mo6Q78i31kGu"
      },
      "outputs": [],
      "source": [
        "import matplotlib.pyplot as plt\n",
        "from itertools import cycle\n",
        "\n",
        "from sklearn import svm, datasets\n",
        "from sklearn.metrics import roc_curve, auc\n",
        "from sklearn.model_selection import train_test_split\n",
        "from sklearn.preprocessing import label_binarize\n",
        "from sklearn.multiclass import OneVsRestClassifier\n",
        "from scipy import interp\n",
        "from sklearn.metrics import roc_auc_score\n",
        "\n",
        "# data\n",
        "X = df_numeric.iloc[:,2:6]\n",
        "y = df_numeric.iloc[:,1]\n",
        "\n",
        "# # Binarize the output\n",
        "# y = label_binarize(y, classes=[0, 1])\n",
        "# n_classes = y.shape[1]\n",
        "\n",
        "# Learn to predict each class against the other\n",
        "classifier = AdaBoostClassifier(n_estimators=100, random_state=0)\n",
        "\n",
        "# OneVsRestClassifier(\n",
        "#     svm.SVC(kernel=\"linear\", probability=True, random_state=random_state)\n",
        "# )\n",
        "y_score = classifier.fit(X_train, y_train).decision_function(X_test)\n",
        "\n",
        "# Compute ROC curve and ROC area for each class\n",
        "fpr = dict()\n",
        "tpr = dict()\n",
        "roc_auc = dict()\n",
        "for i in range(n_classes):\n",
        "    fpr[i], tpr[i], _ = roc_curve(y_test[:, i], y_score[:, i])\n",
        "    roc_auc[i] = auc(fpr[i], tpr[i])\n",
        "\n",
        "# Compute micro-average ROC curve and ROC area\n",
        "fpr[\"micro\"], tpr[\"micro\"], _ = roc_curve(y_test.ravel(), y_score.ravel())\n",
        "roc_auc[\"micro\"] = auc(fpr[\"micro\"], tpr[\"micro\"])"
      ]
    },
    {
      "cell_type": "markdown",
      "metadata": {
        "id": "PG0aXvN3fbtp"
      },
      "source": [
        "#### 10 xgboost"
      ]
    },
    {
      "cell_type": "code",
      "execution_count": null,
      "metadata": {
        "colab": {
          "base_uri": "https://localhost:8080/"
        },
        "id": "a6CKKvWufa9T",
        "outputId": "eddec36c-bffd-4335-f434-8452c93f9f1f"
      },
      "outputs": [
        {
          "name": "stderr",
          "output_type": "stream",
          "text": [
            "[Parallel(n_jobs=1)]: Using backend SequentialBackend with 1 concurrent workers.\n"
          ]
        },
        {
          "name": "stdout",
          "output_type": "stream",
          "text": [
            "[CV] END .................................................... total time=  11.3s\n"
          ]
        },
        {
          "name": "stderr",
          "output_type": "stream",
          "text": [
            "[Parallel(n_jobs=1)]: Done   1 out of   1 | elapsed:   11.3s remaining:    0.0s\n"
          ]
        },
        {
          "name": "stdout",
          "output_type": "stream",
          "text": [
            "[CV] END .................................................... total time=  11.0s\n",
            "[CV] END .................................................... total time=  10.9s\n",
            "[CV] END .................................................... total time=  10.9s\n",
            "[CV] END .................................................... total time=  11.0s\n",
            "xgboost classifier accuracy:  0.6290382178350191\n",
            "xgboost classifier f1:  0.6466454139665537\n",
            "xgboost classifier precision:  0.6173412964691751\n",
            "xgboost classifier recall:  0.6788764966766215\n"
          ]
        },
        {
          "name": "stderr",
          "output_type": "stream",
          "text": [
            "[Parallel(n_jobs=1)]: Done   5 out of   5 | elapsed:   55.2s finished\n"
          ]
        },
        {
          "data": {
            "text/plain": [
              "(0.6290382178350191,\n",
              " 0.6466454139665537,\n",
              " 0.6173412964691751,\n",
              " 0.6788764966766215)"
            ]
          },
          "execution_count": 22,
          "metadata": {},
          "output_type": "execute_result"
        }
      ],
      "source": [
        "from xgboost import XGBClassifier\n",
        "clf = XGBClassifier()\n",
        "\n",
        "score_result = cross_validate(clf, X, y, scoring=scorings, cv = 5, verbose=2)\n",
        "xgboost_result = get_metrics_score(\"xgboost\", score_result)\n",
        "xgboost_result"
      ]
    },
    {
      "cell_type": "markdown",
      "metadata": {
        "id": "xarjJFfcPBof"
      },
      "source": [
        "### Evaluation Result"
      ]
    },
    {
      "cell_type": "code",
      "execution_count": null,
      "metadata": {
        "id": "Hp4OmNgtDcDK"
      },
      "outputs": [],
      "source": [
        "eval_df = pd.DataFrame()\n",
        "eval_df[\"Dummy\"] = dummy_result\n",
        "eval_df[\"Naive Bayes\"] = nb_result\n",
        "eval_df[\"KNN\"] = knn_result\n",
        "eval_df[\"Decision Tree\"] = dt_result\n",
        "eval_df[\"Logistic Regression\"] = lr_result\n",
        "eval_df[\"Random Forest\"] = rf_result\n",
        "eval_df[\"AdaBoost\"] = AdaBoost_result\n",
        "eval_df[\"XgBoost\"] = xgboost_result\n",
        "eval_df1 = eval_df.T.rename(columns={0:\"Accuracy\",1:\"F1\",2:\"Precision\",3:\"Recall\"})"
      ]
    },
    {
      "cell_type": "code",
      "execution_count": null,
      "metadata": {
        "colab": {
          "base_uri": "https://localhost:8080/",
          "height": 300
        },
        "id": "-kETt_Y6xgZa",
        "outputId": "0127080d-8781-46f4-91b5-4eeeade0ce63"
      },
      "outputs": [
        {
          "data": {
            "text/html": [
              "<div>\n",
              "<style scoped>\n",
              "    .dataframe tbody tr th:only-of-type {\n",
              "        vertical-align: middle;\n",
              "    }\n",
              "\n",
              "    .dataframe tbody tr th {\n",
              "        vertical-align: top;\n",
              "    }\n",
              "\n",
              "    .dataframe thead th {\n",
              "        text-align: right;\n",
              "    }\n",
              "</style>\n",
              "<table border=\"1\" class=\"dataframe\">\n",
              "  <thead>\n",
              "    <tr style=\"text-align: right;\">\n",
              "      <th></th>\n",
              "      <th>Accuracy</th>\n",
              "      <th>F1</th>\n",
              "      <th>Precision</th>\n",
              "      <th>Recall</th>\n",
              "    </tr>\n",
              "  </thead>\n",
              "  <tbody>\n",
              "    <tr>\n",
              "      <th>Dummy</th>\n",
              "      <td>0.499998</td>\n",
              "      <td>0.133332</td>\n",
              "      <td>0.099999</td>\n",
              "      <td>0.200000</td>\n",
              "    </tr>\n",
              "    <tr>\n",
              "      <th>Naive Bayes</th>\n",
              "      <td>0.584584</td>\n",
              "      <td>0.650145</td>\n",
              "      <td>0.561528</td>\n",
              "      <td>0.771979</td>\n",
              "    </tr>\n",
              "    <tr>\n",
              "      <th>KNN</th>\n",
              "      <td>0.595451</td>\n",
              "      <td>0.623681</td>\n",
              "      <td>0.583000</td>\n",
              "      <td>0.670469</td>\n",
              "    </tr>\n",
              "    <tr>\n",
              "      <th>Decision Tree</th>\n",
              "      <td>0.665768</td>\n",
              "      <td>0.658127</td>\n",
              "      <td>0.673526</td>\n",
              "      <td>0.643418</td>\n",
              "    </tr>\n",
              "    <tr>\n",
              "      <th>Logistic Regression</th>\n",
              "      <td>0.568451</td>\n",
              "      <td>0.574736</td>\n",
              "      <td>0.566489</td>\n",
              "      <td>0.583236</td>\n",
              "    </tr>\n",
              "    <tr>\n",
              "      <th>Random Forest</th>\n",
              "      <td>0.692496</td>\n",
              "      <td>0.695136</td>\n",
              "      <td>0.689220</td>\n",
              "      <td>0.701157</td>\n",
              "    </tr>\n",
              "    <tr>\n",
              "      <th>AdaBoost</th>\n",
              "      <td>0.621041</td>\n",
              "      <td>0.641188</td>\n",
              "      <td>0.608820</td>\n",
              "      <td>0.677197</td>\n",
              "    </tr>\n",
              "    <tr>\n",
              "      <th>XgBoost</th>\n",
              "      <td>0.629038</td>\n",
              "      <td>0.646645</td>\n",
              "      <td>0.617341</td>\n",
              "      <td>0.678876</td>\n",
              "    </tr>\n",
              "  </tbody>\n",
              "</table>\n",
              "</div>"
            ],
            "text/plain": [
              "                     Accuracy        F1  Precision    Recall\n",
              "Dummy                0.499998  0.133332   0.099999  0.200000\n",
              "Naive Bayes          0.584584  0.650145   0.561528  0.771979\n",
              "KNN                  0.595451  0.623681   0.583000  0.670469\n",
              "Decision Tree        0.665768  0.658127   0.673526  0.643418\n",
              "Logistic Regression  0.568451  0.574736   0.566489  0.583236\n",
              "Random Forest        0.692496  0.695136   0.689220  0.701157\n",
              "AdaBoost             0.621041  0.641188   0.608820  0.677197\n",
              "XgBoost              0.629038  0.646645   0.617341  0.678876"
            ]
          },
          "execution_count": 28,
          "metadata": {},
          "output_type": "execute_result"
        }
      ],
      "source": [
        "eval_df1"
      ]
    },
    {
      "cell_type": "code",
      "execution_count": null,
      "metadata": {
        "colab": {
          "base_uri": "https://localhost:8080/"
        },
        "id": "TF-xJoFuKuPy",
        "outputId": "8ba89b52-2866-4806-ee38-8675a181debc"
      },
      "outputs": [
        {
          "data": {
            "text/plain": [
              "['Accuracy', 'F1', 'Precision', 'Recall']"
            ]
          },
          "execution_count": 49,
          "metadata": {},
          "output_type": "execute_result"
        }
      ],
      "source": [
        "list(eval_df1.columns)\n"
      ]
    },
    {
      "cell_type": "code",
      "execution_count": null,
      "metadata": {
        "colab": {
          "base_uri": "https://localhost:8080/",
          "height": 490
        },
        "id": "dR5ejrzqInnX",
        "outputId": "e10da09c-e8a8-4330-f680-5f1cc7f3cefa"
      },
      "outputs": [
        {
          "data": {
            "text/plain": [
              "Text(0.5, 1.0, 'Accuracy of Multiple Models')"
            ]
          },
          "execution_count": 24,
          "metadata": {},
          "output_type": "execute_result"
        },
        {
          "data": {
            "image/png": "[encoded data removed]",
            "text/plain": [
              "<Figure size 720x360 with 1 Axes>"
            ]
          },
          "metadata": {},
          "output_type": "display_data"
        }
      ],
      "source": [
        "import seaborn as sns\n",
        "import matplotlib.pyplot as plt\n",
        "\n",
        "plt.figure(figsize=(10,5))\n",
        "sns.barplot(x=list(eval_df1.index), y=eval_df1.Accuracy)\n",
        "plt.xticks(rotation=90, fontsize=15)\n",
        "plt.yticks(fontsize=15)\n",
        "plt.title(label=\"Accuracy of Multiple Models\", fontsize=15)"
      ]
    },
    {
      "cell_type": "code",
      "execution_count": null,
      "metadata": {
        "colab": {
          "base_uri": "https://localhost:8080/",
          "height": 490
        },
        "id": "oCIg1GaUNv84",
        "outputId": "8665d52e-aacb-410d-dca8-b31f4450c7a6"
      },
      "outputs": [
        {
          "data": {
            "text/plain": [
              "Text(0.5, 1.0, 'F1 of Multiple Models')"
            ]
          },
          "execution_count": 25,
          "metadata": {},
          "output_type": "execute_result"
        },
        {
          "data": {
            "image/png": "[encoded data removed]",
            "text/plain": [
              "<Figure size 720x360 with 1 Axes>"
            ]
          },
          "metadata": {},
          "output_type": "display_data"
        }
      ],
      "source": [
        "plt.figure(figsize=(10,5))\n",
        "sns.barplot(x=list(eval_df1.index), y=eval_df1.F1)\n",
        "plt.xticks(rotation=90, fontsize=15)\n",
        "plt.yticks(fontsize=15)\n",
        "plt.title(label=\"F1 of Multiple Models\", fontsize=15)"
      ]
    },
    {
      "cell_type": "code",
      "execution_count": null,
      "metadata": {
        "colab": {
          "base_uri": "https://localhost:8080/",
          "height": 490
        },
        "id": "6HhO3dmDHSdZ",
        "outputId": "0004c89b-7b25-4db1-ce60-5da4af150e62"
      },
      "outputs": [
        {
          "data": {
            "text/plain": [
              "Text(0.5, 1.0, 'Precision of Multiple Models')"
            ]
          },
          "execution_count": 26,
          "metadata": {},
          "output_type": "execute_result"
        },
        {
          "data": {
            "image/png": "[encoded data removed]",
            "text/plain": [
              "<Figure size 720x360 with 1 Axes>"
            ]
          },
          "metadata": {},
          "output_type": "display_data"
        }
      ],
      "source": [
        "plt.figure(figsize=(10,5))\n",
        "sns.barplot(x=list(eval_df1.index), y=eval_df1.Precision)\n",
        "plt.xticks(rotation=90, fontsize=15)\n",
        "plt.yticks(fontsize=15)\n",
        "plt.title(label=\"Precision of Multiple Models\", fontsize=15)"
      ]
    },
    {
      "cell_type": "code",
      "execution_count": null,
      "metadata": {
        "colab": {
          "base_uri": "https://localhost:8080/",
          "height": 490
        },
        "id": "1d1fTZLcOPle",
        "outputId": "d41e3c7d-01fd-4777-da5d-52c0d4d448f5"
      },
      "outputs": [
        {
          "data": {
            "text/plain": [
              "Text(0.5, 1.0, 'Recall of Multiple Models')"
            ]
          },
          "execution_count": 27,
          "metadata": {},
          "output_type": "execute_result"
        },
        {
          "data": {
            "image/png": "[encoded data removed]",
            "text/plain": [
              "<Figure size 720x360 with 1 Axes>"
            ]
          },
          "metadata": {},
          "output_type": "display_data"
        }
      ],
      "source": [
        "plt.figure(figsize=(10,5))\n",
        "sns.barplot(x=list(eval_df1.index), y=eval_df1.Recall)\n",
        "plt.xticks(rotation=90, fontsize=15)\n",
        "plt.yticks(fontsize=15)\n",
        "plt.title(label=\"Recall of Multiple Models\", fontsize=15)"
      ]
    },
    {
      "cell_type": "code",
      "execution_count": null,
      "metadata": {
        "id": "sSmm9ChCvbZ0"
      },
      "outputs": [],
      "source": [
        "# For output >= 0.5 we assign label 1; 0 otherwise\n",
        "test_int = []\n",
        "for i in testPredict:\n",
        "    if i >= 0.5:\n",
        "        test_int.append(1)\n",
        "    else:\n",
        "        test_int.append(0)\n",
        "# Output results\n",
        "test_df1 = test_df.copy()\n",
        "test_df1[\"label\"] = test_int\n",
        "test_df2 = test_df1[[\"id\",\"label\"]]\n",
        "test_df2"
      ]
    },
    {
      "cell_type": "code",
      "execution_count": null,
      "metadata": {
        "colab": {
          "base_uri": "https://localhost:8080/"
        },
        "id": "lJuAmzNhvH86",
        "outputId": "de73f39c-b331-4d70-ccd5-d2288881224b"
      },
      "outputs": [
        {
          "name": "stderr",
          "output_type": "stream",
          "text": [
            "[Parallel(n_jobs=1)]: Using backend SequentialBackend with 1 concurrent workers.\n"
          ]
        },
        {
          "name": "stdout",
          "output_type": "stream",
          "text": [
            "building tree 1 of 100\n"
          ]
        },
        {
          "name": "stderr",
          "output_type": "stream",
          "text": [
            "[Parallel(n_jobs=1)]: Done   1 out of   1 | elapsed:    0.8s remaining:    0.0s\n"
          ]
        },
        {
          "name": "stdout",
          "output_type": "stream",
          "text": [
            "building tree 2 of 100\n",
            "building tree 3 of 100\n",
            "building tree 4 of 100\n",
            "building tree 5 of 100\n",
            "building tree 6 of 100\n",
            "building tree 7 of 100\n",
            "building tree 8 of 100\n",
            "building tree 9 of 100\n",
            "building tree 10 of 100\n",
            "building tree 11 of 100\n",
            "building tree 12 of 100\n",
            "building tree 13 of 100\n",
            "building tree 14 of 100\n",
            "building tree 15 of 100\n",
            "building tree 16 of 100\n",
            "building tree 17 of 100\n",
            "building tree 18 of 100\n",
            "building tree 19 of 100\n",
            "building tree 20 of 100\n",
            "building tree 21 of 100\n",
            "building tree 22 of 100\n",
            "building tree 23 of 100\n",
            "building tree 24 of 100\n",
            "building tree 25 of 100\n",
            "building tree 26 of 100\n",
            "building tree 27 of 100\n",
            "building tree 28 of 100\n",
            "building tree 29 of 100\n",
            "building tree 30 of 100\n",
            "building tree 31 of 100\n",
            "building tree 32 of 100\n",
            "building tree 33 of 100\n",
            "building tree 34 of 100\n",
            "building tree 35 of 100\n",
            "building tree 36 of 100\n",
            "building tree 37 of 100\n",
            "building tree 38 of 100\n",
            "building tree 39 of 100\n",
            "building tree 40 of 100\n",
            "building tree 41 of 100\n",
            "building tree 42 of 100\n",
            "building tree 43 of 100\n",
            "building tree 44 of 100\n",
            "building tree 45 of 100\n",
            "building tree 46 of 100\n",
            "building tree 47 of 100\n",
            "building tree 48 of 100\n",
            "building tree 49 of 100\n",
            "building tree 50 of 100\n",
            "building tree 51 of 100\n",
            "building tree 52 of 100\n",
            "building tree 53 of 100\n",
            "building tree 54 of 100\n",
            "building tree 55 of 100\n",
            "building tree 56 of 100\n",
            "building tree 57 of 100\n",
            "building tree 58 of 100\n",
            "building tree 59 of 100\n",
            "building tree 60 of 100\n",
            "building tree 61 of 100\n",
            "building tree 62 of 100\n",
            "building tree 63 of 100\n",
            "building tree 64 of 100\n",
            "building tree 65 of 100\n",
            "building tree 66 of 100\n",
            "building tree 67 of 100\n",
            "building tree 68 of 100\n",
            "building tree 69 of 100\n",
            "building tree 70 of 100\n",
            "building tree 71 of 100\n",
            "building tree 72 of 100\n",
            "building tree 73 of 100\n",
            "building tree 74 of 100\n",
            "building tree 75 of 100\n",
            "building tree 76 of 100\n",
            "building tree 77 of 100\n",
            "building tree 78 of 100\n",
            "building tree 79 of 100\n",
            "building tree 80 of 100\n",
            "building tree 81 of 100\n",
            "building tree 82 of 100\n",
            "building tree 83 of 100\n",
            "building tree 84 of 100\n",
            "building tree 85 of 100\n",
            "building tree 86 of 100\n",
            "building tree 87 of 100\n",
            "building tree 88 of 100\n",
            "building tree 89 of 100\n",
            "building tree 90 of 100\n",
            "building tree 91 of 100\n",
            "building tree 92 of 100\n",
            "building tree 93 of 100\n",
            "building tree 94 of 100\n",
            "building tree 95 of 100\n",
            "building tree 96 of 100\n",
            "building tree 97 of 100\n",
            "building tree 98 of 100\n",
            "building tree 99 of 100\n",
            "building tree 100 of 100\n"
          ]
        },
        {
          "name": "stderr",
          "output_type": "stream",
          "text": [
            "[Parallel(n_jobs=1)]: Done 100 out of 100 | elapsed:  1.2min finished\n"
          ]
        },
        {
          "data": {
            "text/plain": [
              "RandomForestClassifier(max_depth=10, max_features=3, min_samples_leaf=5,\n",
              "                       random_state=0, verbose=2)"
            ]
          },
          "execution_count": 8,
          "metadata": {},
          "output_type": "execute_result"
        }
      ],
      "source": [
        "from sklearn.ensemble import RandomForestClassifier\n",
        "from sklearn.model_selection import cross_validate\n",
        "\n",
        "X = df_numeric.iloc[:,2:6]\n",
        "y = df_numeric.iloc[:,1]\n",
        "\n",
        "clf = RandomForestClassifier(random_state=0, max_depth=10, max_features=3, min_samples_leaf=5, verbose=2)\n",
        "clf.fit(X, y)"
      ]
    },
    {
      "cell_type": "code",
      "execution_count": null,
      "metadata": {
        "colab": {
          "base_uri": "https://localhost:8080/",
          "height": 206
        },
        "id": "buHLXJ1JvUXQ",
        "outputId": "71004999-d2de-4b6b-e6a8-2b5dc4abda92"
      },
      "outputs": [
        {
          "data": {
            "text/html": [
              "<div>\n",
              "<style scoped>\n",
              "    .dataframe tbody tr th:only-of-type {\n",
              "        vertical-align: middle;\n",
              "    }\n",
              "\n",
              "    .dataframe tbody tr th {\n",
              "        vertical-align: top;\n",
              "    }\n",
              "\n",
              "    .dataframe thead th {\n",
              "        text-align: right;\n",
              "    }\n",
              "</style>\n",
              "<table border=\"1\" class=\"dataframe\">\n",
              "  <thead>\n",
              "    <tr style=\"text-align: right;\">\n",
              "      <th></th>\n",
              "      <th>id</th>\n",
              "      <th>original_text</th>\n",
              "      <th>label</th>\n",
              "      <th>frequency word percentage</th>\n",
              "      <th>mean_concretness</th>\n",
              "      <th>mean_unknow_percentage</th>\n",
              "      <th>mean_aoa</th>\n",
              "    </tr>\n",
              "  </thead>\n",
              "  <tbody>\n",
              "    <tr>\n",
              "      <th>0</th>\n",
              "      <td>0</td>\n",
              "      <td>-2011</td>\n",
              "      <td>NaN</td>\n",
              "      <td>0.0</td>\n",
              "      <td>2.456987</td>\n",
              "      <td>0.006596</td>\n",
              "      <td>5.658503</td>\n",
              "    </tr>\n",
              "    <tr>\n",
              "      <th>1</th>\n",
              "      <td>1</td>\n",
              "      <td>-2011</td>\n",
              "      <td>NaN</td>\n",
              "      <td>0.0</td>\n",
              "      <td>2.456987</td>\n",
              "      <td>0.006596</td>\n",
              "      <td>5.658503</td>\n",
              "    </tr>\n",
              "    <tr>\n",
              "      <th>2</th>\n",
              "      <td>2</td>\n",
              "      <td>-2000</td>\n",
              "      <td>NaN</td>\n",
              "      <td>0.0</td>\n",
              "      <td>2.456987</td>\n",
              "      <td>0.006596</td>\n",
              "      <td>5.658503</td>\n",
              "    </tr>\n",
              "    <tr>\n",
              "      <th>3</th>\n",
              "      <td>3</td>\n",
              "      <td>-1997</td>\n",
              "      <td>NaN</td>\n",
              "      <td>0.0</td>\n",
              "      <td>2.456987</td>\n",
              "      <td>0.006596</td>\n",
              "      <td>5.658503</td>\n",
              "    </tr>\n",
              "    <tr>\n",
              "      <th>4</th>\n",
              "      <td>4</td>\n",
              "      <td>1.636</td>\n",
              "      <td>NaN</td>\n",
              "      <td>0.0</td>\n",
              "      <td>2.456987</td>\n",
              "      <td>0.006596</td>\n",
              "      <td>5.658503</td>\n",
              "    </tr>\n",
              "  </tbody>\n",
              "</table>\n",
              "</div>"
            ],
            "text/plain": [
              "   id original_text  label  ...  mean_concretness  mean_unknow_percentage  mean_aoa\n",
              "0   0         -2011    NaN  ...          2.456987                0.006596  5.658503\n",
              "1   1         -2011    NaN  ...          2.456987                0.006596  5.658503\n",
              "2   2         -2000    NaN  ...          2.456987                0.006596  5.658503\n",
              "3   3         -1997    NaN  ...          2.456987                0.006596  5.658503\n",
              "4   4         1.636    NaN  ...          2.456987                0.006596  5.658503\n",
              "\n",
              "[5 rows x 7 columns]"
            ]
          },
          "execution_count": 11,
          "metadata": {},
          "output_type": "execute_result"
        }
      ],
      "source": []
    },
    {
      "cell_type": "code",
      "execution_count": null,
      "metadata": {
        "id": "r1R02RzO4TZb"
      },
      "outputs": [],
      "source": [
        "(X, y)"
      ]
    },
    {
      "cell_type": "code",
      "execution_count": null,
      "metadata": {
        "id": "mbeAHTr23-sq"
      },
      "outputs": [],
      "source": [
        "df_numeric_test = pd.read_csv(\"\")"
      ]
    },
    {
      "cell_type": "code",
      "execution_count": null,
      "metadata": {
        "colab": {
          "base_uri": "https://localhost:8080/",
          "height": 200
        },
        "id": "Z-z9eYhBzDAk",
        "outputId": "98f52ab8-1714-4ec3-a928-8be96d099fcc"
      },
      "outputs": [
        {
          "ename": "NameError",
          "evalue": "ignored",
          "output_type": "error",
          "traceback": [
            "\u001b[0;31m---------------------------------------------------------------------------\u001b[0m",
            "\u001b[0;31mNameError\u001b[0m                                 Traceback (most recent call last)",
            "\u001b[0;32m<ipython-input-9-075540ece264>\u001b[0m in \u001b[0;36m<module>\u001b[0;34m()\u001b[0m\n\u001b[1;32m      1\u001b[0m \u001b[0moutput_df\u001b[0m \u001b[0;34m=\u001b[0m \u001b[0mtest_df\u001b[0m\u001b[0;34m[\u001b[0m\u001b[0;34m[\u001b[0m\u001b[0;34m'id'\u001b[0m\u001b[0;34m]\u001b[0m\u001b[0;34m]\u001b[0m\u001b[0;34m\u001b[0m\u001b[0;34m\u001b[0m\u001b[0m\n\u001b[0;32m----> 2\u001b[0;31m \u001b[0moutput_df\u001b[0m\u001b[0;34m[\u001b[0m\u001b[0;34m'label'\u001b[0m\u001b[0;34m]\u001b[0m \u001b[0;34m=\u001b[0m \u001b[0mclf\u001b[0m\u001b[0;34m.\u001b[0m\u001b[0mpredict\u001b[0m\u001b[0;34m(\u001b[0m\u001b[0mdf_numeric_test\u001b[0m\u001b[0;34m.\u001b[0m\u001b[0miloc\u001b[0m\u001b[0;34m[\u001b[0m\u001b[0;34m:\u001b[0m\u001b[0;34m,\u001b[0m\u001b[0;36m3\u001b[0m\u001b[0;34m:\u001b[0m\u001b[0;36m7\u001b[0m\u001b[0;34m]\u001b[0m\u001b[0;34m)\u001b[0m\u001b[0;34m\u001b[0m\u001b[0;34m\u001b[0m\u001b[0m\n\u001b[0m\u001b[1;32m      3\u001b[0m \u001b[0moutput_df\u001b[0m\u001b[0;34m.\u001b[0m\u001b[0mhead\u001b[0m\u001b[0;34m(\u001b[0m\u001b[0;34m)\u001b[0m\u001b[0;34m\u001b[0m\u001b[0;34m\u001b[0m\u001b[0m\n",
            "\u001b[0;31mNameError\u001b[0m: name 'df_numeric_test' is not defined"
          ]
        }
      ],
      "source": [
        "df_numeric_test = pd.read_csv(\"data/test_fwp_cu_aoa.csv\",index_col=0)\n",
        "# df_numeric_test.head()\n",
        "output_df = test_df[['id']]\n",
        "output_df['label'] = clf.predict(df_numeric_test.iloc[:,3:7])\n",
        "output_df.head()"
      ]
    },
    {
      "cell_type": "code",
      "execution_count": null,
      "metadata": {
        "colab": {
          "base_uri": "https://localhost:8080/"
        },
        "id": "dnWUscQJz0Pw",
        "outputId": "2d5b647b-12cb-45d9-ba58-0b92126e2c1a"
      },
      "outputs": [
        {
          "name": "stderr",
          "output_type": "stream",
          "text": [
            "[Parallel(n_jobs=1)]: Using backend SequentialBackend with 1 concurrent workers.\n",
            "[Parallel(n_jobs=1)]: Done   1 out of   1 | elapsed:    0.0s remaining:    0.0s\n",
            "[Parallel(n_jobs=1)]: Done 100 out of 100 | elapsed:    4.3s finished\n"
          ]
        },
        {
          "data": {
            "text/plain": [
              "0.6434203201781327"
            ]
          },
          "execution_count": 10,
          "metadata": {},
          "output_type": "execute_result"
        }
      ],
      "source": [
        "from sklearn.metrics import accuracy_score\n",
        "accuracy_score(y, clf.predict(X))"
      ]
    },
    {
      "cell_type": "code",
      "execution_count": null,
      "metadata": {
        "id": "PSywGuLk0nyJ"
      },
      "outputs": [],
      "source": [
        "output_df.to_csv('test_results.csv', index=None)"
      ]
    },
    {
      "cell_type": "markdown",
      "metadata": {
        "id": "CANcOZZ8xwk0"
      },
      "source": [
        "### Main results\n",
        "By applying 5-fold cross-validation to compare accuracy of the each upervised learning methods, we notice that LSTM classifier gives the hight accuracy. Therefore, we use LSTM classifier to predict labels for test data."
      ]
    },
    {
      "cell_type": "code",
      "execution_count": null,
      "metadata": {
        "colab": {
          "base_uri": "https://localhost:8080/",
          "height": 419
        },
        "id": "dgzPNIYyiWh2",
        "outputId": "770c1daf-b989-43c9-faeb-e772f42d7169"
      },
      "outputs": [
        {
          "data": {
            "text/html": [
              "<div>\n",
              "<style scoped>\n",
              "    .dataframe tbody tr th:only-of-type {\n",
              "        vertical-align: middle;\n",
              "    }\n",
              "\n",
              "    .dataframe tbody tr th {\n",
              "        vertical-align: top;\n",
              "    }\n",
              "\n",
              "    .dataframe thead th {\n",
              "        text-align: right;\n",
              "    }\n",
              "</style>\n",
              "<table border=\"1\" class=\"dataframe\">\n",
              "  <thead>\n",
              "    <tr style=\"text-align: right;\">\n",
              "      <th></th>\n",
              "      <th>id</th>\n",
              "      <th>label</th>\n",
              "    </tr>\n",
              "  </thead>\n",
              "  <tbody>\n",
              "    <tr>\n",
              "      <th>0</th>\n",
              "      <td>0</td>\n",
              "      <td>0</td>\n",
              "    </tr>\n",
              "    <tr>\n",
              "      <th>1</th>\n",
              "      <td>1</td>\n",
              "      <td>0</td>\n",
              "    </tr>\n",
              "    <tr>\n",
              "      <th>2</th>\n",
              "      <td>2</td>\n",
              "      <td>0</td>\n",
              "    </tr>\n",
              "    <tr>\n",
              "      <th>3</th>\n",
              "      <td>3</td>\n",
              "      <td>0</td>\n",
              "    </tr>\n",
              "    <tr>\n",
              "      <th>4</th>\n",
              "      <td>4</td>\n",
              "      <td>0</td>\n",
              "    </tr>\n",
              "    <tr>\n",
              "      <th>...</th>\n",
              "      <td>...</td>\n",
              "      <td>...</td>\n",
              "    </tr>\n",
              "    <tr>\n",
              "      <th>119087</th>\n",
              "      <td>119087</td>\n",
              "      <td>0</td>\n",
              "    </tr>\n",
              "    <tr>\n",
              "      <th>119088</th>\n",
              "      <td>119088</td>\n",
              "      <td>0</td>\n",
              "    </tr>\n",
              "    <tr>\n",
              "      <th>119089</th>\n",
              "      <td>119089</td>\n",
              "      <td>0</td>\n",
              "    </tr>\n",
              "    <tr>\n",
              "      <th>119090</th>\n",
              "      <td>119090</td>\n",
              "      <td>0</td>\n",
              "    </tr>\n",
              "    <tr>\n",
              "      <th>119091</th>\n",
              "      <td>119091</td>\n",
              "      <td>0</td>\n",
              "    </tr>\n",
              "  </tbody>\n",
              "</table>\n",
              "<p>119092 rows × 2 columns</p>\n",
              "</div>"
            ],
            "text/plain": [
              "            id  label\n",
              "0            0      0\n",
              "1            1      0\n",
              "2            2      0\n",
              "3            3      0\n",
              "4            4      0\n",
              "...        ...    ...\n",
              "119087  119087      0\n",
              "119088  119088      0\n",
              "119089  119089      0\n",
              "119090  119090      0\n",
              "119091  119091      0\n",
              "\n",
              "[119092 rows x 2 columns]"
            ]
          },
          "execution_count": 9,
          "metadata": {},
          "output_type": "execute_result"
        }
      ],
      "source": [
        "# Process test data\n",
        "dataset_test = test_df.values\n",
        "X_test = dataset_test[:, 1]\n",
        "text_test = X_test.reshape(-1)\n",
        "sequences_test = tokenizer.texts_to_sequences(text_test)\n",
        "input_test = pad_sequences(sequences_test, maxlen=maxlen)\n",
        "# Predict using LSTM model\n",
        "testPredict = model.predict(input_test)\n",
        "# For output >= 0.5 we assign label 1; 0 otherwise\n",
        "test_int = []\n",
        "for i in testPredict:\n",
        "    if i >= 0.5:\n",
        "        test_int.append(1)\n",
        "    else:\n",
        "        test_int.append(0)\n",
        "# Output results\n",
        "test_df1 = test_df.copy()\n",
        "test_df1[\"label\"] = test_int\n",
        "test_df2 = test_df1[[\"id\",\"label\"]]\n",
        "test_df2"
      ]
    }
  ],
  "metadata": {
    "accelerator": "GPU",
    "colab": {
      "collapsed_sections": [],
      "name": "Final Work.ipynb",
      "provenance": []
    },
    "kernelspec": {
      "display_name": "Python 3",
      "language": "python",
      "name": "python3"
    },
    "language_info": {
      "codemirror_mode": {
        "name": "ipython",
        "version": 3
      },
      "file_extension": ".py",
      "mimetype": "text/x-python",
      "name": "python",
      "nbconvert_exporter": "python",
      "pygments_lexer": "ipython3",
      "version": "3.8.5"
    }
  },
  "nbformat": 4,
  "nbformat_minor": 0
}
